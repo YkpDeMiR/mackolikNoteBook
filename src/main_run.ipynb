{
 "cells": [
  {
   "cell_type": "code",
   "execution_count": 1,
   "id": "71063cbc-3926-4abb-a536-172313edd851",
   "metadata": {
    "tags": []
   },
   "outputs": [],
   "source": [
    "from selenium import webdriver\n",
    "from selenium.webdriver.common.by import By\n",
    "import nbimporter\n",
    "from sandbox import accept_cookies, set_target_date, wait_for_page_loaded,process_links\n",
    "from sandbox import get_date_range\n",
    "from datetime import datetime, timedelta\n",
    "from selenium.webdriver.firefox.service import Service as FirefoxService\n",
    "from selenium.common.exceptions import WebDriverException, TimeoutException\n",
    "import time\n",
    "from selenium.webdriver.support.ui import WebDriverWait\n",
    "from selenium.webdriver.support import expected_conditions as EC"
   ]
  },
  {
   "cell_type": "code",
   "execution_count": 2,
   "id": "d1143241-9cef-4a08-a353-058d2d022446",
   "metadata": {
    "tags": []
   },
   "outputs": [],
   "source": [
    "def main_function(driver):\n",
    "   \n",
    "    macKolikUrl = \"https://www.mackolik.com/futbol/canli-sonuclar\"\n",
    "    driver.get(macKolikUrl)\n",
    "    # date_list = ['10-10-2020', '11-10-2020', '12-10-2020', '13-10-2020', '14-10-2020', '15-10-2020', '16-10-2020', '17-10-2020']\n",
    "    accept_cookies(driver)\n",
    "    date_list = get_date_range()\n",
    "    while True:\n",
    "        \n",
    "\n",
    "        while date_list:\n",
    "            \n",
    "            print('trueeeeeeeeeeeeeeeeeeeeeeee<<><><><><><><<><><><>><>')\n",
    "            target_date = date_list.pop(0)  # Listenin başındaki tarihi al ve listeden çıkar\n",
    "\n",
    "            tarih_obj = datetime.strptime(target_date, '%d-%m-%Y')\n",
    "\n",
    "            target_day = tarih_obj.day\n",
    "            target_month = tarih_obj.month\n",
    "            target_year = tarih_obj.year\n",
    "\n",
    "            set_target_date(driver, target_year, target_month, target_day)\n",
    "\n",
    "            wait_for_page_loaded(driver)\n",
    "\n",
    "            # 'process_links' \n",
    "            process_links(driver)\n",
    "\n",
    "\n"
   ]
  },
  {
   "cell_type": "code",
   "execution_count": null,
   "id": "d3ac2802-0934-43e0-999f-4c10dac4f42a",
   "metadata": {
    "tags": []
   },
   "outputs": [
    {
     "name": "stdin",
     "output_type": "stream",
     "text": [
      "Başlangıç Yılını Girin:  2023\n",
      "Başlangıç Ayını Girin:  12\n",
      "Başlangıç Gününü Girin:  1\n",
      "Bitiş Yılını Girin:  2023\n",
      "Bitiş Ayını Girin:  12\n",
      "Bitiş Gününü Girin:  2\n"
     ]
    },
    {
     "name": "stdout",
     "output_type": "stream",
     "text": [
      "['01-12-2023', '02-12-2023']\n",
      "trueeeeeeeeeeeeeeeeeeeeeeee<<><><><><><><<><><><>><>\n",
      "Total number of links: 230\n",
      "(try Worked... 228)\n",
      "(went new page... 228)\n",
      "Button is not disabled. Proceeding...\n",
      "-------------------\n",
      "['Hatayspor', 'Antalyaspor', '3', 'MS', '3', '(İY 1 - 1)', '01-12-23 | Süper Lig | 14. Hafta | Stat: Mersin Stadyumu (3760)']\n",
      "(gone new page closed.. 228)\n",
      "(try Worked... 229)\n",
      "(went new page... 229)\n",
      "Button is not disabled. Proceeding...\n",
      "-------------------\n",
      "['Karagümrük', 'İstanbulspor', '3', 'MS', '0', '(İY 1 - 0)', '01-12-23 | Süper Lig | 14. Hafta | Stat: Atatürk Olimpiyat Stadı (310)']\n",
      "(gone new page closed.. 229)\n",
      "(try Worked... 230)\n",
      "(went new page... 230)\n",
      "Button is not disabled. Proceeding...\n",
      "-------------------\n",
      "['Adanaspor', 'Çorum FK', '0', 'MS', '3', '(İY 0 - 2)', '01-12-23 | TFF 1. Lig | 14. Hafta | Stat: Yeni Adana Stadyumu']\n",
      "(gone new page closed.. 230)\n",
      "all match raw_links r collected\n",
      "trueeeeeeeeeeeeeeeeeeeeeeee<<><><><><><><<><><><>><>\n",
      "Total number of links: 639\n",
      "(try Worked... 228)\n",
      "(went new page... 228)\n",
      "Button is not disabled. Proceeding...\n",
      "-------------------\n",
      "['Alanyaspor', 'Konyaspor', '2', 'MS', '2', '(İY 2 - 1)', '02-12-23 | Süper Lig | 14. Hafta | Stat: Bahçeşehir Okulları Stadyumu (2939)']\n",
      "(gone new page closed.. 228)\n",
      "(try Worked... 229)\n",
      "(went new page... 229)\n",
      "Button is not disabled. Proceeding...\n",
      "-------------------\n",
      "['Çaykur Rizespor', 'İstanbul Başakşehir', '3', 'MS', '2', '(İY 2 - 2)', '02-12-23 | Süper Lig | 14. Hafta | Stat: Çaykur Didi Stadyumu (4100)']\n",
      "(gone new page closed.. 229)\n",
      "(try Worked... 230)\n",
      "(went new page... 230)\n",
      "Button is not disabled. Proceeding...\n",
      "-------------------\n",
      "['Pendikspor', 'Galatasaray', '0', 'MS', '2', '(İY 0 - 0)', '02-12-23 | Süper Lig | 14. Hafta | Stat: Siltaş Yapı Pendik Stadyumu (1405)']\n",
      "(gone new page closed.. 230)\n",
      "(try Worked... 231)\n",
      "(went new page... 231)\n",
      "Button is not disabled. Proceeding...\n",
      "-------------------\n",
      "['Adana Demirspor', 'Samsunspor', '2', 'MS', '3', '(İY 1 - 2)', '02-12-23 | Süper Lig | 14. Hafta | Stat: Yeni Adana Stadyumu (9743)']\n",
      "(gone new page closed.. 231)\n",
      "(try Worked... 232)\n",
      "(went new page... 232)\n",
      "Button is not disabled. Proceeding...\n",
      "-------------------\n",
      "['Ankara Keçiörengücü', 'Sakaryaspor', '1', 'MS', '3', '(İY 1 - 1)', '02-12-23 | TFF 1. Lig | 14. Hafta | Stat: Keçiören Aktepe']\n",
      "(gone new page closed.. 232)\n",
      "(try Worked... 233)\n",
      "(went new page... 233)\n",
      "Button is not disabled. Proceeding...\n",
      "-------------------\n",
      "['Tuzlaspor', 'Bandırmaspor', '1', 'MS', '1', '(İY 0 - 0)', '02-12-23 | TFF 1. Lig | 14. Hafta | Stat: 15 Temmuz Stadı']\n",
      "(gone new page closed.. 233)\n",
      "(try Worked... 234)\n",
      "(went new page... 234)\n"
     ]
    }
   ],
   "source": [
    "geckodriver_path = \"../set/geckodriver\"\n",
    "# Firefox service nesnesini oluştur\n",
    "service = FirefoxService(executable_path=geckodriver_path)\n",
    "macKolikUrl = \"https://www.mackolik.com/futbol/canli-sonuclar\"\n",
    "# Firefox tarayıcısını service ile başlat\n",
    "driver = webdriver.Firefox(service=service)\n",
    "\n",
    "\n",
    "main_function(driver)"
   ]
  },
  {
   "cell_type": "code",
   "execution_count": null,
   "id": "00123bb6-0bd6-4b19-ab1c-33dc780c43f2",
   "metadata": {},
   "outputs": [],
   "source": []
  }
 ],
 "metadata": {
  "kernelspec": {
   "display_name": "Python 3 (ipykernel)",
   "language": "python",
   "name": "python3"
  },
  "language_info": {
   "codemirror_mode": {
    "name": "ipython",
    "version": 3
   },
   "file_extension": ".py",
   "mimetype": "text/x-python",
   "name": "python",
   "nbconvert_exporter": "python",
   "pygments_lexer": "ipython3",
   "version": "3.11.5"
  }
 },
 "nbformat": 4,
 "nbformat_minor": 5
}
