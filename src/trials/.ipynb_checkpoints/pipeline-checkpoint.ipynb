{
 "cells": [
  {
   "cell_type": "code",
   "execution_count": 2,
   "id": "fe2929c6-e869-4378-a3bb-11b1beb360a6",
   "metadata": {
    "tags": []
   },
   "outputs": [],
   "source": [
    "import pandas as pd\n",
    "import numpy as np\n",
    "from openpyxl import load_workbook\n",
    "import re\n",
    "from datetime import datetime\n",
    "import nbimporter\n",
    "from main_collection import raw_cleaner\n"
   ]
  },
  {
   "cell_type": "code",
   "execution_count": 3,
   "id": "3339c1cc-8a19-4192-8885-79f86dbc7e86",
   "metadata": {
    "tags": []
   },
   "outputs": [],
   "source": [
    "df_1 = pd.read_excel('../data/new_data_raw_1_.xlsx')\n",
    "lst_game_1 = list(df_1[0])"
   ]
  },
  {
   "cell_type": "code",
   "execution_count": 25,
   "id": "fee361da-eedc-4478-acac-8321f0748cb8",
   "metadata": {
    "tags": []
   },
   "outputs": [],
   "source": [
    "df_2 = pd.read_excel('../data/df_112.xlsx')\n",
    "lst_game_2 = list(df_2[0])"
   ]
  },
  {
   "cell_type": "code",
   "execution_count": 13,
   "id": "5518cf18-149f-4143-860c-0836985bbe38",
   "metadata": {},
   "outputs": [],
   "source": [
    "df_3 = pd.read_excel('../data/df_114.xlsx')\n",
    "lst_game_3 = list(df_3[0])"
   ]
  },
  {
   "cell_type": "code",
   "execution_count": 14,
   "id": "724deec8-0bf3-40ae-8a54-8b66111d83e6",
   "metadata": {},
   "outputs": [],
   "source": [
    "df_4 = pd.read_excel('../data/df_115.xlsx')\n",
    "lst_game_4 = list(df_4[0])"
   ]
  },
  {
   "cell_type": "code",
   "execution_count": 15,
   "id": "5aa7e943-4658-4298-ba29-337850161b26",
   "metadata": {},
   "outputs": [],
   "source": [
    "df_n1 = pd.read_excel('../data/df_n1.xlsx')\n",
    "lst_game_n1 = list(df_n1[0])"
   ]
  },
  {
   "cell_type": "code",
   "execution_count": 16,
   "id": "bcd20de0-3a03-49ca-b4ea-26cbccad2173",
   "metadata": {},
   "outputs": [],
   "source": [
    "df_n2 = pd.read_excel('../data/df_n2.xlsx')\n",
    "lst_game_n2 = list(df_n2[0])"
   ]
  },
  {
   "cell_type": "code",
   "execution_count": 17,
   "id": "861760af-bb0e-489b-9496-866e4769744e",
   "metadata": {},
   "outputs": [],
   "source": [
    "df_cl = pd.read_excel('../data/df_all_cleaned_games.xlsx', sheet_name='records')"
   ]
  },
  {
   "cell_type": "code",
   "execution_count": 13,
   "id": "fbcfa40d-e327-44f5-b70c-155b7797326b",
   "metadata": {
    "tags": []
   },
   "outputs": [],
   "source": [
    "#revize edildi\n",
    "def fn_acc_record(filename, df, sheet_name='records', startrow=None, **to_excel_kwargs):\n",
    "    try:\n",
    "        # ExcelWriter ile dosyayı aç\n",
    "        with pd.ExcelWriter(filename, engine='openpyxl', mode='a', if_sheet_exists='overlay') as writer:\n",
    "            # Eğer belirtilen sayfa varsa, startrow'u son satır olarak ayarla\n",
    "            if sheet_name in writer.book.sheetnames:\n",
    "                startrow = writer.book[sheet_name].max_row\n",
    "            else:\n",
    "                # Belirtilen sayfa yoksa, startrow'u 0 olarak başlat\n",
    "                startrow = 0\n",
    "\n",
    "            # DataFrame'i yazdır\n",
    "            df.to_excel(writer, sheet_name=sheet_name, startrow=startrow, **to_excel_kwargs)\n",
    "\n",
    "    except FileNotFoundError:\n",
    "        # Dosya yoksa, yeni bir dosya oluştur ve startrow'u 0 olarak başlat\n",
    "        with pd.ExcelWriter(filename, engine='openpyxl') as writer:\n",
    "            startrow = 0\n",
    "            df.to_excel(writer, sheet_name=sheet_name, startrow=startrow, **to_excel_kwargs)"
   ]
  },
  {
   "cell_type": "code",
   "execution_count": 14,
   "id": "dd412998-9c21-4864-97ea-0fb7580e46e9",
   "metadata": {
    "tags": []
   },
   "outputs": [],
   "source": [
    "def idx_find(L, text,jump):\n",
    "    for idx, value in enumerate(L):\n",
    "        if text in str(value):\n",
    "            get_idx = L.index(value)\n",
    "            return get_idx + jump\n",
    "    return -1"
   ]
  },
  {
   "cell_type": "code",
   "execution_count": 15,
   "id": "18a5af0d-738f-46ae-9664-7c762349a4be",
   "metadata": {
    "tags": []
   },
   "outputs": [],
   "source": [
    "#new\n",
    "def find_lig(L, patern):\n",
    "    for data in L:\n",
    "        lig = re.search(patern, data)\n",
    "        if lig:\n",
    "            return lig.group(1).strip()\n",
    "    return None"
   ]
  },
  {
   "cell_type": "code",
   "execution_count": 16,
   "id": "d8564b3c-d8db-48cf-8716-3a2fd97d7b84",
   "metadata": {
    "tags": []
   },
   "outputs": [],
   "source": [
    "def find_IYScore(L):\n",
    "    for data in L:\n",
    "        if isinstance(data, str):\n",
    "            match = re.search(r'\\(İY (\\d+) - (\\d+)\\)', data)\n",
    "            if match:\n",
    "                return match.group(1) + '-' + match.group(2)\n",
    "    return '-'"
   ]
  },
  {
   "cell_type": "code",
   "execution_count": 17,
   "id": "c9f19a00-0790-457e-928d-88abe370a4d6",
   "metadata": {
    "tags": []
   },
   "outputs": [],
   "source": [
    "def find_date_format(L):\n",
    "    # Veriyi dolaş, uygun tarihi bul ve döndür\n",
    "    for data in L:\n",
    "        date_dash = re.search(r'\\d{2}-\\d{2}-\\d{2}', data)\n",
    "        date_slash = re.search(r'\\d{2}/\\d{2}/\\d{2}', data)\n",
    "        \n",
    "        if date_dash:\n",
    "            return date_dash.group()\n",
    "        elif date_slash:\n",
    "            return date_slash.group()\n",
    "\n",
    "    return None"
   ]
  },
  {
   "cell_type": "code",
   "execution_count": 18,
   "id": "6e1b3f0e-76ca-41a3-91fc-08cfcedf75f9",
   "metadata": {
    "tags": []
   },
   "outputs": [
    {
     "data": {
      "text/html": [
       "<div>\n",
       "<style scoped>\n",
       "    .dataframe tbody tr th:only-of-type {\n",
       "        vertical-align: middle;\n",
       "    }\n",
       "\n",
       "    .dataframe tbody tr th {\n",
       "        vertical-align: top;\n",
       "    }\n",
       "\n",
       "    .dataframe thead th {\n",
       "        text-align: right;\n",
       "    }\n",
       "</style>\n",
       "<table border=\"1\" class=\"dataframe\">\n",
       "  <thead>\n",
       "    <tr style=\"text-align: right;\">\n",
       "      <th></th>\n",
       "      <th>MacTarihi</th>\n",
       "      <th>Lig</th>\n",
       "      <th>EvSahibi</th>\n",
       "      <th>KonukEkip</th>\n",
       "      <th>IlkYariSonucu</th>\n",
       "      <th>MacSonucu</th>\n",
       "      <th>Ms1</th>\n",
       "      <th>Ms0</th>\n",
       "      <th>Ms2</th>\n",
       "      <th>CS10</th>\n",
       "      <th>...</th>\n",
       "      <th>D2YKE</th>\n",
       "      <th>D2YKH</th>\n",
       "      <th>1YSONEVSAH</th>\n",
       "      <th>1YSONBER</th>\n",
       "      <th>1YSONDEP</th>\n",
       "      <th>TEK</th>\n",
       "      <th>CIFT</th>\n",
       "      <th>KARGOLVAR</th>\n",
       "      <th>KARGOLYOK</th>\n",
       "      <th>runTime</th>\n",
       "    </tr>\n",
       "  </thead>\n",
       "  <tbody>\n",
       "    <tr>\n",
       "      <th>0</th>\n",
       "      <td>17-12-23</td>\n",
       "      <td>Premier Lig</td>\n",
       "      <td>Arsenal</td>\n",
       "      <td>Brighton &amp; Hove Albion</td>\n",
       "      <td>0-0</td>\n",
       "      <td>2-0</td>\n",
       "      <td>1.28</td>\n",
       "      <td>4.11</td>\n",
       "      <td>5.56</td>\n",
       "      <td>-</td>\n",
       "      <td>...</td>\n",
       "      <td>NaN</td>\n",
       "      <td>NaN</td>\n",
       "      <td>1.70</td>\n",
       "      <td>2.18</td>\n",
       "      <td>5.24</td>\n",
       "      <td>1.69</td>\n",
       "      <td>1.67</td>\n",
       "      <td>1.58</td>\n",
       "      <td>1.73</td>\n",
       "      <td>26/12/2023</td>\n",
       "    </tr>\n",
       "  </tbody>\n",
       "</table>\n",
       "<p>1 rows × 95 columns</p>\n",
       "</div>"
      ],
      "text/plain": [
       "  MacTarihi          Lig EvSahibi               KonukEkip IlkYariSonucu  \\\n",
       "0  17-12-23  Premier Lig  Arsenal  Brighton & Hove Albion           0-0   \n",
       "\n",
       "  MacSonucu   Ms1   Ms0   Ms2 CS10  ... D2YKE D2YKH 1YSONEVSAH 1YSONBER  \\\n",
       "0       2-0  1.28  4.11  5.56    -  ...   NaN   NaN       1.70     2.18   \n",
       "\n",
       "  1YSONDEP   TEK  CIFT  KARGOLVAR  KARGOLYOK     runTime  \n",
       "0     5.24  1.69  1.67       1.58       1.73  26/12/2023  \n",
       "\n",
       "[1 rows x 95 columns]"
      ]
     },
     "execution_count": 18,
     "metadata": {},
     "output_type": "execute_result"
    }
   ],
   "source": [
    "df = raw_cleaner(lst_game_1)\n",
    "df"
   ]
  },
  {
   "cell_type": "code",
   "execution_count": 4,
   "id": "979a7935-5536-404e-b50d-159c2cb48b3f",
   "metadata": {
    "tags": []
   },
   "outputs": [
    {
     "data": {
      "text/plain": [
       "['Girona',\n",
       " 'Deportivo Alaves',\n",
       " '3',\n",
       " 'MS',\n",
       " '0',\n",
       " '(İY 2 - 0)',\n",
       " '18-12-23 | La Liga | 17. Hafta | Stat: Estadi Municipal de Montilivi (11812)',\n",
       " 'MAÇ SONUCU 15906 MBS 1',\n",
       " '1',\n",
       " '1.42',\n",
       " 'X',\n",
       " '3.59',\n",
       " '2',\n",
       " '4.48',\n",
       " 'ÇIFTE ŞANS 15907 MBS 1',\n",
       " '1-X',\n",
       " '-',\n",
       " '1-2',\n",
       " '1.09',\n",
       " 'X-2',\n",
       " '1.88',\n",
       " '2,5 ALT/ÜST 15931 MBS 1',\n",
       " 'Alt',\n",
       " '1.80',\n",
       " 'Üst',\n",
       " '1.58',\n",
       " '4,5 ALT/ÜST 15933 MBS 1',\n",
       " 'Alt',\n",
       " '-',\n",
       " 'Üst',\n",
       " '4.73',\n",
       " '1,5 ALT/ÜST 15930 MBS 1',\n",
       " 'Alt',\n",
       " '3.45',\n",
       " 'Üst',\n",
       " '1.11',\n",
       " '3,5 ALT/ÜST 15932 MBS 1',\n",
       " 'Alt',\n",
       " '1.25',\n",
       " 'Üst',\n",
       " '2.58',\n",
       " '0,5 ALT/ÜST 15929 MBS 1',\n",
       " 'Alt',\n",
       " '9.17',\n",
       " 'Üst',\n",
       " '-',\n",
       " '1. YARI 1,5 ALT/ÜST 15940 MBS 1',\n",
       " 'Alt',\n",
       " '1.31',\n",
       " 'Üst',\n",
       " '2.35',\n",
       " '1. YARI 0,5 ALT/ÜST 15938 MBS 1',\n",
       " 'Alt',\n",
       " '2.73',\n",
       " 'Üst',\n",
       " '1.21',\n",
       " '1. YARI 2,5 ALT/ÜST 15941 MBS 1',\n",
       " 'Alt',\n",
       " '-',\n",
       " 'Üst',\n",
       " '5.53',\n",
       " '1. YARI ÇIFTE ŞANS 15937 MBS 1',\n",
       " '1-X',\n",
       " '-',\n",
       " '1-2',\n",
       " '1.35',\n",
       " 'X-2',\n",
       " '1.42',\n",
       " '1. YARI SONUCU 15936 MBS 1',\n",
       " '1',\n",
       " '1.90',\n",
       " 'X',\n",
       " '2.03',\n",
       " '2',\n",
       " '4.60',\n",
       " '2. YARI SONUCU 15943 MBS 1',\n",
       " '1',\n",
       " '1.73',\n",
       " 'X',\n",
       " '2.53',\n",
       " '2',\n",
       " '4.39',\n",
       " 'TEK/ÇIFT 15972 MBS 1',\n",
       " 'Tek',\n",
       " '1.70',\n",
       " 'Çift',\n",
       " '1.66',\n",
       " 'TOPLAM GOL ARALIĞI 15935 MBS 1',\n",
       " '0-1',\n",
       " '3.64',\n",
       " '2-3',\n",
       " '1.82',\n",
       " '4-5',\n",
       " '3.34',\n",
       " '6+',\n",
       " '12.10',\n",
       " 'KARŞILIKLI GOL 15934 MBS 1',\n",
       " 'Var',\n",
       " '1.59',\n",
       " 'Yok',\n",
       " '1.70',\n",
       " 'İLK YARI/MAÇ SONUCU 15942 MBS 1',\n",
       " '1/1',\n",
       " '2.07',\n",
       " 'X/1',\n",
       " '3.83',\n",
       " '2/1',\n",
       " '22.60',\n",
       " '1/X',\n",
       " '15.45',\n",
       " 'X/X',\n",
       " '5.42',\n",
       " '2/X',\n",
       " '16.15',\n",
       " '1/2',\n",
       " '34.00',\n",
       " 'X/2',\n",
       " '9.97',\n",
       " '2/2',\n",
       " '7.74',\n",
       " 'HND. MS (0:2) 15908 MBS 1',\n",
       " '1',\n",
       " '4.53',\n",
       " 'X',\n",
       " '4.18',\n",
       " '+2h',\n",
       " '1.29',\n",
       " 'HND. MS (0:1) 15910 MBS 1',\n",
       " '1',\n",
       " '2.31',\n",
       " 'X',\n",
       " '3.28',\n",
       " '+1h',\n",
       " '2.01',\n",
       " 'HND. MS (1:0) 15911 MBS 1',\n",
       " '+1h',\n",
       " '-',\n",
       " 'X',\n",
       " '5.65',\n",
       " '2',\n",
       " '11.10',\n",
       " 'MAÇ SKORU 15944 MBS 1',\n",
       " '0-0',\n",
       " '11.40',\n",
       " '0-1',\n",
       " '12.60',\n",
       " '0-2',\n",
       " '27.00',\n",
       " '0-3',\n",
       " '85.00',\n",
       " '0-4',\n",
       " '130.00',\n",
       " '0-5',\n",
       " '130.00',\n",
       " '1-0',\n",
       " '6.31',\n",
       " '1-1',\n",
       " '6.51',\n",
       " '1-2',\n",
       " '14.20',\n",
       " '1-3',\n",
       " '45.00',\n",
       " '1-4',\n",
       " '130.00',\n",
       " '1-5',\n",
       " '130.00',\n",
       " '2-0',\n",
       " '6.65',\n",
       " '2-1',\n",
       " '7.10',\n",
       " '2-2',\n",
       " '14.50',\n",
       " '2-3',\n",
       " '47.50',\n",
       " '2-4',\n",
       " '130.00',\n",
       " '0-6',\n",
       " '130.00',\n",
       " '3-0',\n",
       " '10.45',\n",
       " '3-1',\n",
       " '11.15',\n",
       " '3-2',\n",
       " '23.45',\n",
       " '3-3',\n",
       " '73.00',\n",
       " '4-0',\n",
       " '21.75',\n",
       " '4-1',\n",
       " '23.45',\n",
       " '4-2',\n",
       " '49.50',\n",
       " '5-0',\n",
       " '57.00',\n",
       " '5-1',\n",
       " '61.00',\n",
       " '6-0',\n",
       " '130.00',\n",
       " 'Diğer',\n",
       " '27.00',\n",
       " 'İLK GOL 15912 MBS 1',\n",
       " '1',\n",
       " '1.27',\n",
       " 'Olmaz',\n",
       " '11.00',\n",
       " '2',\n",
       " '2.33',\n",
       " 'MS VE 1,5 ALT/ÜST 15913 MBS 1',\n",
       " '1 ve Alt',\n",
       " '7.05',\n",
       " 'X ve Alt',\n",
       " '12.85',\n",
       " '2 ve Alt',\n",
       " '14.20',\n",
       " '1 ve Üst',\n",
       " '1.68',\n",
       " 'X ve Üst',\n",
       " '4.76',\n",
       " '2 ve Üst',\n",
       " '6.26',\n",
       " 'MS VE 4,5 ALT/ÜST 15928 MBS 1',\n",
       " '1 ve Alt',\n",
       " '1.71',\n",
       " 'X ve Alt',\n",
       " '3.67',\n",
       " '2 ve Alt',\n",
       " '5.09',\n",
       " '1 ve Üst',\n",
       " '6.53',\n",
       " 'X ve Üst',\n",
       " '34.00',\n",
       " '2 ve Üst',\n",
       " '30.00',\n",
       " 'MS VE 2,5 ALT/ÜST 15926 MBS 1',\n",
       " '1 ve Alt',\n",
       " '3.68',\n",
       " 'X ve Alt',\n",
       " '4.71',\n",
       " '2 ve Alt',\n",
       " '9.76',\n",
       " '1 ve Üst',\n",
       " '2.14',\n",
       " 'X ve Üst',\n",
       " '13.50',\n",
       " '2 ve Üst',\n",
       " '7.90',\n",
       " 'MS VE 3,5 ALT/ÜST 15927 MBS 1',\n",
       " '1 ve Alt',\n",
       " '2.12',\n",
       " 'X ve Alt',\n",
       " '4.71',\n",
       " '2 ve Alt',\n",
       " '5.76',\n",
       " '1 ve Üst',\n",
       " '3.73',\n",
       " 'X ve Üst',\n",
       " '13.50',\n",
       " '2 ve Üst',\n",
       " '18.20',\n",
       " '1. YARI EN ÇOK KORNER 03469 MBS 1',\n",
       " '1',\n",
       " '1.51',\n",
       " 'X',\n",
       " '4.69',\n",
       " '2',\n",
       " '3.03',\n",
       " '1. YARI KORNER ARALIĞI 03486 MBS 1',\n",
       " '0-4',\n",
       " '1.51',\n",
       " '5-6',\n",
       " '3.12',\n",
       " '7+',\n",
       " '4.51',\n",
       " '1. YARI DEPLASMAN 0,5 ALT/ÜST 15987 MBS 1',\n",
       " 'Alt',\n",
       " '1.28',\n",
       " 'Üst',\n",
       " '2.44',\n",
       " '12+',\n",
       " '-',\n",
       " 'TOPLAM KORNER ARALIĞI 01475 MBS 1',\n",
       " '0-8',\n",
       " '1.87',\n",
       " '9-11',\n",
       " '2.70',\n",
       " '12+',\n",
       " '3.36',\n",
       " 'EN ÇOK KORNER 03471 MBS 1',\n",
       " '1',\n",
       " '1.31',\n",
       " 'X',\n",
       " '7.12',\n",
       " '2',\n",
       " '3.25',\n",
       " '1.YARI 4,5 KORNER ALT/ÜST 03478 MBS 1',\n",
       " 'Alt',\n",
       " '1.51',\n",
       " 'Üst',\n",
       " '1.89',\n",
       " 'EV SAHIBI 0,5 A/Ü 15945 MBS 1',\n",
       " 'Alt',\n",
       " '4.84',\n",
       " 'Üst',\n",
       " '-',\n",
       " 'EV SAHIBI 2,5 A/Ü 15948 MBS 1',\n",
       " 'Alt',\n",
       " '1.21',\n",
       " 'Üst',\n",
       " '2.75',\n",
       " 'EV SAHIBI 1,5 A/Ü 15947 MBS 1',\n",
       " 'Alt',\n",
       " '1.90',\n",
       " 'Üst',\n",
       " '1.50',\n",
       " 'EN ÇOK GOL OLACAK YARI 15964 MBS 1',\n",
       " '1. Yarı',\n",
       " '2.87',\n",
       " 'Eşit',\n",
       " '3.28',\n",
       " '2. Yarı',\n",
       " '1.82',\n",
       " 'DEPLASMAN 0,5 A/Ü 15953 MBS 1',\n",
       " 'Alt',\n",
       " '2.11',\n",
       " 'Üst',\n",
       " '1.40',\n",
       " 'DEPLASMAN 1,5 A/Ü 15955 MBS 1',\n",
       " 'Alt',\n",
       " '1.13',\n",
       " 'Üst',\n",
       " '3.28',\n",
       " 'DEPLASMAN 2,5 A/Ü 15958 MBS 1',\n",
       " 'Alt',\n",
       " '-',\n",
       " 'Üst',\n",
       " '8.54',\n",
       " 'İLK KORNER 03473 MBS 1',\n",
       " '1',\n",
       " '1.40',\n",
       " 'Olmaz',\n",
       " '26.50',\n",
       " '2',\n",
       " '2.05',\n",
       " '1. YARI KARŞILIKLI GOL 15985 MBS 1',\n",
       " 'Var',\n",
       " '4.05',\n",
       " 'Yok',\n",
       " '1.06',\n",
       " 'EV SAHIBI İKI YARIYI DA KAZANIR 15969 MBS 1',\n",
       " 'Evet',\n",
       " '3.71',\n",
       " 'Hayır',\n",
       " '1.09',\n",
       " '1. YARI EV SAHIBI 0,5 ALT/ÜST 15986 MBS 1',\n",
       " 'Alt',\n",
       " '1.90',\n",
       " 'Üst',\n",
       " '1.51',\n",
       " 'DEPLASMAN İKI YARIYI DA KAZANIR 15970 MBS 1',\n",
       " 'Evet',\n",
       " '12.25',\n",
       " 'Hayır',\n",
       " '-']"
      ]
     },
     "execution_count": 4,
     "metadata": {},
     "output_type": "execute_result"
    }
   ],
   "source": [
    "lst_game_1"
   ]
  },
  {
   "cell_type": "code",
   "execution_count": null,
   "id": "9ba331bb-ea35-4526-8c04-ea9a7466eba5",
   "metadata": {},
   "outputs": [],
   "source": [
    "lst_game_n1"
   ]
  },
  {
   "cell_type": "code",
   "execution_count": 21,
   "id": "43d30118-0516-4f0e-b370-c3d739ecafd4",
   "metadata": {
    "tags": []
   },
   "outputs": [
    {
     "data": {
      "text/plain": [
       "False"
      ]
     },
     "execution_count": 21,
     "metadata": {},
     "output_type": "execute_result"
    }
   ],
   "source": [
    "'Tümü' in enumerate(lst_game_1)"
   ]
  },
  {
   "cell_type": "code",
   "execution_count": null,
   "id": "d5bc335c-3c7e-4ae2-8d09-f0fc228bab29",
   "metadata": {},
   "outputs": [],
   "source": [
    "lst_game_n1"
   ]
  },
  {
   "cell_type": "code",
   "execution_count": null,
   "id": "0eded082-cdf7-48e8-aac3-d29d5cd743c0",
   "metadata": {},
   "outputs": [],
   "source": [
    "for idx, value in enumerate(lst_game_4):\n",
    "    print(value)"
   ]
  },
  {
   "cell_type": "code",
   "execution_count": null,
   "id": "6df479ec-d096-45dd-8f87-041f0a601bdc",
   "metadata": {},
   "outputs": [],
   "source": [
    "raw_cleaner(lst_game_4)"
   ]
  },
  {
   "cell_type": "code",
   "execution_count": null,
   "id": "12d6e2bf-0df5-4e12-9e9b-1ad6f4deb23e",
   "metadata": {},
   "outputs": [],
   "source": [
    "lst_game_4"
   ]
  },
  {
   "cell_type": "code",
   "execution_count": null,
   "id": "308096f6-3901-4de7-a73f-395009525153",
   "metadata": {},
   "outputs": [],
   "source": [
    "lst_game_4[6].split('|')[0]"
   ]
  },
  {
   "cell_type": "code",
   "execution_count": null,
   "id": "88a92d4c-f059-427a-ad67-a5e4f0d18822",
   "metadata": {},
   "outputs": [],
   "source": [
    "lst_game_1[lst_game_1.index('MS')+2]"
   ]
  },
  {
   "cell_type": "code",
   "execution_count": null,
   "id": "5ea49420-98c4-4794-ba3c-f39a39666693",
   "metadata": {},
   "outputs": [],
   "source": [
    "def idx_find(L, text):\n",
    "    for idx, deger in enumerate(L):\n",
    "        if text in deger:\n",
    "            get_idx = L.index(deger)\n",
    "            return get_idx"
   ]
  },
  {
   "cell_type": "code",
   "execution_count": null,
   "id": "c3484c57-8a7c-4154-b3be-732a0eed2af9",
   "metadata": {},
   "outputs": [],
   "source": [
    "idx_find(lst_game_1, 'MAÇ SONUCU 2321 MBS1',2)"
   ]
  },
  {
   "cell_type": "code",
   "execution_count": null,
   "id": "1e51b47d-fa39-4fe2-a23a-cf7795d661ed",
   "metadata": {},
   "outputs": [],
   "source": [
    "lst_game_1[idx_find(lst_game_1, 'MAÇ SONUCU')]"
   ]
  },
  {
   "cell_type": "code",
   "execution_count": null,
   "id": "d5c85640-14b2-418e-a7c2-49e7d3bacd7a",
   "metadata": {},
   "outputs": [],
   "source": [
    "# raw_cleaner(lst_game)"
   ]
  },
  {
   "cell_type": "code",
   "execution_count": null,
   "id": "59cfdd37-92bc-44b5-b5e7-08e206f063ec",
   "metadata": {},
   "outputs": [],
   "source": [
    "lst_game_1.index('MS ')"
   ]
  },
  {
   "cell_type": "code",
   "execution_count": null,
   "id": "3739e393-a478-4533-adc0-27bc1db2ce73",
   "metadata": {},
   "outputs": [],
   "source": [
    "df_1[0]"
   ]
  },
  {
   "cell_type": "code",
   "execution_count": null,
   "id": "a13fd308-e8ed-4fa1-9758-314f32f169b7",
   "metadata": {},
   "outputs": [],
   "source": []
  },
  {
   "cell_type": "code",
   "execution_count": null,
   "id": "d8b03820-aab4-4eb5-b71e-b0549db5cd96",
   "metadata": {},
   "outputs": [],
   "source": []
  },
  {
   "cell_type": "code",
   "execution_count": null,
   "id": "48bf99d1-7295-4e55-8c7e-7e7c05c7c631",
   "metadata": {},
   "outputs": [],
   "source": [
    "df = pd.read_excel('df_raw_ALL_2.xlsx')\n",
    "df"
   ]
  },
  {
   "cell_type": "code",
   "execution_count": null,
   "id": "d19e7016-d136-40e5-a9eb-0f82642fb85b",
   "metadata": {},
   "outputs": [],
   "source": [
    "pd.read_excel('df_cleaned_11.xlsx')"
   ]
  },
  {
   "cell_type": "code",
   "execution_count": null,
   "id": "ecfdf176-4af7-4aef-af1b-9eb8e256fa71",
   "metadata": {},
   "outputs": [],
   "source": []
  }
 ],
 "metadata": {
  "kernelspec": {
   "display_name": "Python 3 (ipykernel)",
   "language": "python",
   "name": "python3"
  },
  "language_info": {
   "codemirror_mode": {
    "name": "ipython",
    "version": 3
   },
   "file_extension": ".py",
   "mimetype": "text/x-python",
   "name": "python",
   "nbconvert_exporter": "python",
   "pygments_lexer": "ipython3",
   "version": "3.11.5"
  }
 },
 "nbformat": 4,
 "nbformat_minor": 5
}
