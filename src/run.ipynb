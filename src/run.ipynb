{
 "cells": [
  {
   "cell_type": "code",
   "execution_count": null,
   "id": "0fb05ed8-54f7-4aca-8ff3-11becd889ab4",
   "metadata": {
    "tags": []
   },
   "outputs": [],
   "source": [
    "%run ./main_collection.ipynb"
   ]
  },
  {
   "cell_type": "code",
   "execution_count": null,
   "id": "48353d85-18e4-4032-8e61-6b9489cac341",
   "metadata": {
    "tags": []
   },
   "outputs": [],
   "source": [
    "%run ./functions.ipynb"
   ]
  },
  {
   "cell_type": "code",
   "execution_count": null,
   "id": "3b764e41-be6e-410e-85fe-3d6847e7aa50",
   "metadata": {},
   "outputs": [],
   "source": []
  }
 ],
 "metadata": {
  "kernelspec": {
   "display_name": "Python 3 (ipykernel)",
   "language": "python",
   "name": "python3"
  },
  "language_info": {
   "codemirror_mode": {
    "name": "ipython",
    "version": 3
   },
   "file_extension": ".py",
   "mimetype": "text/x-python",
   "name": "python",
   "nbconvert_exporter": "python",
   "pygments_lexer": "ipython3",
   "version": "3.11.5"
  }
 },
 "nbformat": 4,
 "nbformat_minor": 5
}
