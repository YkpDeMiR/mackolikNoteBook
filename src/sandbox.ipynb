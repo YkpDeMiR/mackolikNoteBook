{
 "cells": [
  {
   "cell_type": "code",
   "execution_count": 1,
   "id": "fe2929c6-e869-4378-a3bb-11b1beb360a6",
   "metadata": {},
   "outputs": [],
   "source": [
    "import pandas as pd\n",
    "import numpy as np\n",
    "from openpyxl import load_workbook\n"
   ]
  },
  {
   "cell_type": "code",
   "execution_count": null,
   "id": "3339c1cc-8a19-4192-8885-79f86dbc7e86",
   "metadata": {},
   "outputs": [],
   "source": [
    "df_1 = pd.read_excel('df_111.xlsx')\n",
    "lst_game_1 = list(df_1[0])"
   ]
  },
  {
   "cell_type": "code",
   "execution_count": null,
   "id": "fee361da-eedc-4478-acac-8321f0748cb8",
   "metadata": {},
   "outputs": [],
   "source": [
    "df_2 = pd.read_excel('df_112.xlsx')\n",
    "lst_game_2 = list(df_2[0])\n",
    "\"yakup\""
   ]
  },
  {
   "cell_type": "code",
   "execution_count": null,
   "id": "5518cf18-149f-4143-860c-0836985bbe38",
   "metadata": {},
   "outputs": [],
   "source": [
    "df_3 = pd.read_excel('df_114.xlsx')\n",
    "lst_game_3 = list(df_3[0])"
   ]
  },
  {
   "cell_type": "code",
   "execution_count": null,
   "id": "724deec8-0bf3-40ae-8a54-8b66111d83e6",
   "metadata": {},
   "outputs": [],
   "source": [
    "df_4 = pd.read_excel('df_115.xlsx')\n",
    "lst_game_4 = list(df_4[0])"
   ]
  },
  {
   "cell_type": "code",
   "execution_count": null,
   "id": "5aa7e943-4658-4298-ba29-337850161b26",
   "metadata": {},
   "outputs": [],
   "source": [
    "df_n1 = pd.read_excel('df_1.xlsx')\n",
    "lst_game_n1 = list(df_n1[0])"
   ]
  },
  {
   "cell_type": "code",
   "execution_count": null,
   "id": "bcd20de0-3a03-49ca-b4ea-26cbccad2173",
   "metadata": {},
   "outputs": [],
   "source": [
    "df_n2 = pd.read_excel('df_2.xlsx')\n",
    "lst_game_n2 = list(df_n2[0])"
   ]
  },
  {
   "cell_type": "code",
   "execution_count": null,
   "id": "861760af-bb0e-489b-9496-866e4769744e",
   "metadata": {},
   "outputs": [],
   "source": [
    "df_cl = pd.read_excel('df_cleaned_3.xlsx')\n",
    "df_cl"
   ]
  },
  {
   "cell_type": "code",
   "execution_count": null,
   "id": "dd412998-9c21-4864-97ea-0fb7580e46e9",
   "metadata": {},
   "outputs": [],
   "source": [
    "def idx_find(L, text,jump):\n",
    "    for idx, value in enumerate(L):\n",
    "        if text in str(value):\n",
    "            get_idx = L.index(value)\n",
    "            return get_idx + jump\n",
    "    return -1"
   ]
  },
  {
   "cell_type": "code",
   "execution_count": null,
   "id": "29bc5eff-916b-463d-8a17-eb80739bf12f",
   "metadata": {},
   "outputs": [],
   "source": [
    "def idx_find(L, text,jump):\n",
    "    for idx, value in enumerate(L):\n",
    "        if text in str(value):\n",
    "            get_idx = L.index(value)\n",
    "            return get_idx + jump\n",
    "    return -1\n",
    "\n",
    "def raw_cleaner(L):\n",
    "    # if not any data, assign nan value\n",
    "    L.append(np.nan)    \n",
    "    \n",
    "    if any(\"components\" in str(item) for item in L):\n",
    "        IlkYariSonucu = '-'\n",
    "        MacSonucu = '-' \n",
    "    else:\n",
    "        IlkYariSonucu = f\"{L[5].split(' ')[1]}-{L[5].split(' ')[3]}\"[:-1] \n",
    "        MacSonucu = f\"{L[2]}-{L[4]}\"\n",
    "       \n",
    "    \n",
    "    cleaned = {\n",
    "        'MacTarihi':L[idx_find(L, 'Hafta',0)].split('|')[0],\n",
    "        'Lig':L[idx_find(L, 'Hafta',0)].split('|')[1],\n",
    "        'EvSahibi':L[0],\n",
    "        'KonukEkip':L[1],\n",
    "        'IlkYariSonucu': IlkYariSonucu,\n",
    "        'MacSonucu': MacSonucu,\n",
    "        'Ms1': L[idx_find(L, 'MAÇ SONUCU',2)],\n",
    "        'Ms0':L[idx_find(L, 'MAÇ SONUCU',4)],\n",
    "        'Ms2':L[idx_find(L, 'MAÇ SONUCU',6)],\n",
    "        'CS10':L[idx_find(L, 'ÇIFTE ŞANS',2)],\n",
    "        'CS12':L[idx_find(L, 'ÇIFTE ŞANS',4)],\n",
    "        'CS02':L[idx_find(L, 'ÇIFTE ŞANS',6)],\n",
    "        'H10Ms1':L[idx_find(L, 'HND. MS (1:0)',2)]\n",
    "    }\n",
    "    # delete of fake last Nan value (-1)\n",
    "    L.pop()\n",
    "    \n",
    "    df = pd.DataFrame([cleaned])\n",
    "\n",
    "    return df"
   ]
  },
  {
   "cell_type": "code",
   "execution_count": null,
   "id": "6e1b3f0e-76ca-41a3-91fc-08cfcedf75f9",
   "metadata": {},
   "outputs": [],
   "source": [
    "df = raw_cleaner(lst_game_n1)"
   ]
  },
  {
   "cell_type": "code",
   "execution_count": null,
   "id": "979a7935-5536-404e-b50d-159c2cb48b3f",
   "metadata": {},
   "outputs": [],
   "source": [
    "df"
   ]
  },
  {
   "cell_type": "code",
   "execution_count": null,
   "id": "9ba331bb-ea35-4526-8c04-ea9a7466eba5",
   "metadata": {},
   "outputs": [],
   "source": [
    "lst_game_n1"
   ]
  },
  {
   "cell_type": "code",
   "execution_count": null,
   "id": "a158055d-fcd0-40b0-935d-d4e5e4a3d5b8",
   "metadata": {},
   "outputs": [],
   "source": [
    "L"
   ]
  },
  {
   "cell_type": "code",
   "execution_count": null,
   "id": "a1a31cde-5f05-44df-b431-e7c9ee1dabc1",
   "metadata": {},
   "outputs": [],
   "source": []
  },
  {
   "cell_type": "code",
   "execution_count": null,
   "id": "3624ebeb-9177-4fb1-8121-d3f5f701c005",
   "metadata": {},
   "outputs": [],
   "source": []
  },
  {
   "cell_type": "code",
   "execution_count": null,
   "id": "dae69805-b32a-45e3-8101-234148a0e1e4",
   "metadata": {},
   "outputs": [],
   "source": []
  },
  {
   "cell_type": "code",
   "execution_count": null,
   "id": "3b955932-0129-417d-90fd-7096f4dbba23",
   "metadata": {},
   "outputs": [],
   "source": []
  },
  {
   "cell_type": "code",
   "execution_count": null,
   "id": "43d30118-0516-4f0e-b370-c3d739ecafd4",
   "metadata": {},
   "outputs": [],
   "source": [
    "'Tümü' in enumerate(lst_game_1)"
   ]
  },
  {
   "cell_type": "code",
   "execution_count": null,
   "id": "d5bc335c-3c7e-4ae2-8d09-f0fc228bab29",
   "metadata": {},
   "outputs": [],
   "source": [
    "lst_game_n1"
   ]
  },
  {
   "cell_type": "code",
   "execution_count": null,
   "id": "0eded082-cdf7-48e8-aac3-d29d5cd743c0",
   "metadata": {},
   "outputs": [],
   "source": [
    "for idx, value in enumerate(lst_game_4):\n",
    "    print(value)"
   ]
  },
  {
   "cell_type": "code",
   "execution_count": null,
   "id": "6df479ec-d096-45dd-8f87-041f0a601bdc",
   "metadata": {},
   "outputs": [],
   "source": [
    "raw_cleaner(lst_game_4)"
   ]
  },
  {
   "cell_type": "code",
   "execution_count": null,
   "id": "12d6e2bf-0df5-4e12-9e9b-1ad6f4deb23e",
   "metadata": {},
   "outputs": [],
   "source": [
    "lst_game_4"
   ]
  },
  {
   "cell_type": "code",
   "execution_count": null,
   "id": "308096f6-3901-4de7-a73f-395009525153",
   "metadata": {},
   "outputs": [],
   "source": [
    "lst_game_4[6].split('|')[0]"
   ]
  },
  {
   "cell_type": "code",
   "execution_count": null,
   "id": "88a92d4c-f059-427a-ad67-a5e4f0d18822",
   "metadata": {},
   "outputs": [],
   "source": [
    "lst_game_1[lst_game_1.index('MS')+2]"
   ]
  },
  {
   "cell_type": "code",
   "execution_count": null,
   "id": "5ea49420-98c4-4794-ba3c-f39a39666693",
   "metadata": {},
   "outputs": [],
   "source": [
    "def idx_find(L, text):\n",
    "    for idx, deger in enumerate(L):\n",
    "        if text in deger:\n",
    "            get_idx = L.index(deger)\n",
    "            return get_idx"
   ]
  },
  {
   "cell_type": "code",
   "execution_count": null,
   "id": "c3484c57-8a7c-4154-b3be-732a0eed2af9",
   "metadata": {},
   "outputs": [],
   "source": [
    "idx_find(lst_game_1, 'MAÇ SONUCU 2321 MBS1',2)"
   ]
  },
  {
   "cell_type": "code",
   "execution_count": null,
   "id": "1e51b47d-fa39-4fe2-a23a-cf7795d661ed",
   "metadata": {},
   "outputs": [],
   "source": [
    "lst_game_1[idx_find(lst_game_1, 'MAÇ SONUCU')]"
   ]
  },
  {
   "cell_type": "code",
   "execution_count": null,
   "id": "d5c85640-14b2-418e-a7c2-49e7d3bacd7a",
   "metadata": {},
   "outputs": [],
   "source": [
    "# raw_cleaner(lst_game)"
   ]
  },
  {
   "cell_type": "code",
   "execution_count": null,
   "id": "59cfdd37-92bc-44b5-b5e7-08e206f063ec",
   "metadata": {},
   "outputs": [],
   "source": [
    "lst_game_1.index('MS ')"
   ]
  },
  {
   "cell_type": "code",
   "execution_count": null,
   "id": "3739e393-a478-4533-adc0-27bc1db2ce73",
   "metadata": {},
   "outputs": [],
   "source": [
    "df_1[0]"
   ]
  },
  {
   "cell_type": "code",
   "execution_count": null,
   "id": "a13fd308-e8ed-4fa1-9758-314f32f169b7",
   "metadata": {},
   "outputs": [],
   "source": []
  },
  {
   "cell_type": "code",
   "execution_count": null,
   "id": "d8b03820-aab4-4eb5-b71e-b0549db5cd96",
   "metadata": {},
   "outputs": [],
   "source": []
  },
  {
   "cell_type": "code",
   "execution_count": 14,
   "id": "48bf99d1-7295-4e55-8c7e-7e7c05c7c631",
   "metadata": {},
   "outputs": [
    {
     "data": {
      "text/html": [
       "<div>\n",
       "<style scoped>\n",
       "    .dataframe tbody tr th:only-of-type {\n",
       "        vertical-align: middle;\n",
       "    }\n",
       "\n",
       "    .dataframe tbody tr th {\n",
       "        vertical-align: top;\n",
       "    }\n",
       "\n",
       "    .dataframe thead th {\n",
       "        text-align: right;\n",
       "    }\n",
       "</style>\n",
       "<table border=\"1\" class=\"dataframe\">\n",
       "  <thead>\n",
       "    <tr style=\"text-align: right;\">\n",
       "      <th></th>\n",
       "      <th>Unnamed: 0</th>\n",
       "      <th>0</th>\n",
       "    </tr>\n",
       "  </thead>\n",
       "  <tbody>\n",
       "    <tr>\n",
       "      <th>0</th>\n",
       "      <td>0</td>\n",
       "      <td>AFC Bournemouth</td>\n",
       "    </tr>\n",
       "    <tr>\n",
       "      <th>1</th>\n",
       "      <td>1</td>\n",
       "      <td>Luton Town</td>\n",
       "    </tr>\n",
       "    <tr>\n",
       "      <th>2</th>\n",
       "      <td>2</td>\n",
       "      <td>p0/components/soccer/match/details/header/inde...</td>\n",
       "    </tr>\n",
       "    <tr>\n",
       "      <th>3</th>\n",
       "      <td>3</td>\n",
       "      <td>16:00</td>\n",
       "    </tr>\n",
       "    <tr>\n",
       "      <th>4</th>\n",
       "      <td>4</td>\n",
       "      <td>16-12-23 | Premier Lig | 17. Hafta | Stat: Vit...</td>\n",
       "    </tr>\n",
       "    <tr>\n",
       "      <th>...</th>\n",
       "      <td>...</td>\n",
       "      <td>...</td>\n",
       "    </tr>\n",
       "    <tr>\n",
       "      <th>958</th>\n",
       "      <td>637</td>\n",
       "      <td>1. YARI EV SAHIBI 0,5 ALT/ÜST 13317 MBS 1</td>\n",
       "    </tr>\n",
       "    <tr>\n",
       "      <th>959</th>\n",
       "      <td>638</td>\n",
       "      <td>Alt</td>\n",
       "    </tr>\n",
       "    <tr>\n",
       "      <th>960</th>\n",
       "      <td>639</td>\n",
       "      <td>2.48</td>\n",
       "    </tr>\n",
       "    <tr>\n",
       "      <th>961</th>\n",
       "      <td>640</td>\n",
       "      <td>Üst</td>\n",
       "    </tr>\n",
       "    <tr>\n",
       "      <th>962</th>\n",
       "      <td>641</td>\n",
       "      <td>1.27</td>\n",
       "    </tr>\n",
       "  </tbody>\n",
       "</table>\n",
       "<p>963 rows × 2 columns</p>\n",
       "</div>"
      ],
      "text/plain": [
       "     Unnamed: 0                                                  0\n",
       "0             0                                    AFC Bournemouth\n",
       "1             1                                         Luton Town\n",
       "2             2  p0/components/soccer/match/details/header/inde...\n",
       "3             3                                              16:00\n",
       "4             4  16-12-23 | Premier Lig | 17. Hafta | Stat: Vit...\n",
       "..          ...                                                ...\n",
       "958         637          1. YARI EV SAHIBI 0,5 ALT/ÜST 13317 MBS 1\n",
       "959         638                                                Alt\n",
       "960         639                                               2.48\n",
       "961         640                                                Üst\n",
       "962         641                                               1.27\n",
       "\n",
       "[963 rows x 2 columns]"
      ]
     },
     "execution_count": 14,
     "metadata": {},
     "output_type": "execute_result"
    }
   ],
   "source": [
    "df = pd.read_excel('df_raw_ALL_2.xlsx')\n",
    "df"
   ]
  },
  {
   "cell_type": "code",
   "execution_count": null,
   "id": "d19e7016-d136-40e5-a9eb-0f82642fb85b",
   "metadata": {},
   "outputs": [],
   "source": [
    "pd.read_excel('df_cleaned_11.xlsx')"
   ]
  },
  {
   "cell_type": "code",
   "execution_count": null,
   "id": "ecfdf176-4af7-4aef-af1b-9eb8e256fa71",
   "metadata": {},
   "outputs": [],
   "source": []
  }
 ],
 "metadata": {
  "kernelspec": {
   "display_name": "Python 3 (ipykernel)",
   "language": "python",
   "name": "python3"
  },
  "language_info": {
   "codemirror_mode": {
    "name": "ipython",
    "version": 3
   },
   "file_extension": ".py",
   "mimetype": "text/x-python",
   "name": "python",
   "nbconvert_exporter": "python",
   "pygments_lexer": "ipython3",
   "version": "3.11.5"
  }
 },
 "nbformat": 4,
 "nbformat_minor": 5
}
