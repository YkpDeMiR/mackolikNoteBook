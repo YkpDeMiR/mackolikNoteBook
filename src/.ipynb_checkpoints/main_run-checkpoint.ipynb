{
 "cells": [
  {
   "cell_type": "code",
   "execution_count": null,
   "id": "71063cbc-3926-4abb-a536-172313edd851",
   "metadata": {
    "tags": []
   },
   "outputs": [],
   "source": [
    "from selenium import webdriver\n",
    "from selenium.webdriver.common.by import By\n",
    "import nbimporter\n",
    "from sandbox import accept_cookies, set_target_date, wait_for_page_loaded,process_links\n",
    "from selenium.webdriver.firefox.service import Service as FirefoxService\n",
    "from selenium.common.exceptions import WebDriverException, TimeoutException\n",
    "import time\n",
    "from selenium.webdriver.support.ui import WebDriverWait\n",
    "from selenium.webdriver.support import expected_conditions as EC"
   ]
  },
  {
   "cell_type": "code",
   "execution_count": null,
   "id": "d9c0b4c4-17c0-41ec-bfac-76f5f75fcaa6",
   "metadata": {},
   "outputs": [],
   "source": [
    "from datetime import datetime, timedelta\n",
    "\n",
    "def get_date_range():\n",
    "    dates=[]\n",
    "    # Kullanıcıdan başlangıç tarihini iste\n",
    "    start_year = int(input(\"Başlangıç Yılını Girin: \"))\n",
    "    start_month = int(input(\"Başlangıç Ayını Girin: \"))\n",
    "    start_day = int(input(\"Başlangıç Gününü Girin: \"))\n",
    "\n",
    "    # Kullanıcıdan bitiş tarihini iste\n",
    "    end_year = int(input(\"Bitiş Yılını Girin: \"))\n",
    "    end_month = int(input(\"Bitiş Ayını Girin: \"))\n",
    "    end_day = int(input(\"Bitiş Gününü Girin: \"))\n",
    "\n",
    "    # Başlangıç ve bitiş tarihlerini kullanarak işlemleri gerçekleştir\n",
    "    start_date = datetime(start_year, start_month, start_day)\n",
    "    end_date = datetime(end_year, end_month, end_day)\n",
    "\n",
    "    # Tarih aralığını hesapla\n",
    "    date_range = end_date - start_date\n",
    "\n",
    "    # Günleri liste olarak tut\n",
    "    date_list = [start_date + timedelta(days=x) for x in range(date_range.days + 1)]\n",
    "\n",
    "    # Liste üzerindeki her bir tarihi isteğe bağlı olarak yazdır\n",
    "    for target_date in date_list:\n",
    "        dates.append(target_date.strftime('%d-%m-%Y'))\n",
    "    print(dates)\n",
    "        \n",
    "    return dates\n",
    "\n",
    "# Fonksiyonu çağır ve tarih listesini al\n",
    "#date_list = get_date_range()\n",
    "\n",
    "# İstersen date_list'i başka bir fonksiyona veya işleme gönder\n",
    "#get_date_range()"
   ]
  },
  {
   "cell_type": "code",
   "execution_count": null,
   "id": "e9db4d1a-dcc1-47f9-b818-3a83b74a0d95",
   "metadata": {
    "tags": []
   },
   "outputs": [],
   "source": [
    "# geckodriver_path = \"../set/geckodriver\"\n",
    "# # Firefox service nesnesini oluştur\n",
    "# service = FirefoxService(executable_path=geckodriver_path)\n",
    "# # Hedef web sayfasına git\n",
    "# macKolikUrl = \"https://www.mackolik.com/futbol/canli-sonuclar\"\n",
    "# # Firefox tarayıcısını service ile başlat\n",
    "# driver = webdriver.Firefox(service=service)\n",
    "# driver.get(macKolikUrl)\n",
    "# container_css = \"div.match-row__match-content\"\n",
    "\n",
    "def main_fonction(driver):\n",
    "    \n",
    "        macKolikUrl = \"https://www.mackolik.com/futbol/canli-sonuclar\"\n",
    "        driver.get(macKolikUrl)\n",
    "        accept_cookies(driver)\n",
    "    \n",
    "        #date_list = ['10-10-2020', '11-10-2020', '12-10-2020', '13-10-2020', '14-10-2020', '15-10-2020', '16-10-2020', '17-10-2020']#\n",
    "        date_list=get_date_range()\n",
    "        for target_date in date_list:\n",
    "            tarih_obj = datetime.strptime(target_date, '%d-%m-%Y')\n",
    "\n",
    "            target_day = tarih_obj.day\n",
    "            target_month = tarih_obj.month\n",
    "            target_year = tarih_obj.year\n",
    "\n",
    "            set_target_date(driver, target_year, target_month, target_day)\n",
    "            \n",
    "            wait_for_page_loaded(driver)\n",
    "\n",
    "            # 'process_links' call\n",
    "            process_links(driver)\n",
    "\n",
    "\n",
    "\n",
    "\n"
   ]
  },
  {
   "cell_type": "code",
   "execution_count": null,
   "id": "d1143241-9cef-4a08-a353-058d2d022446",
   "metadata": {
    "tags": []
   },
   "outputs": [],
   "source": [
    "def main_function(driver):\n",
    "   \n",
    "    macKolikUrl = \"https://www.mackolik.com/futbol/canli-sonuclar\"\n",
    "    driver.get(macKolikUrl)\n",
    "    # date_list = ['10-10-2020', '11-10-2020', '12-10-2020', '13-10-2020', '14-10-2020', '15-10-2020', '16-10-2020', '17-10-2020']\n",
    "    accept_cookies(driver)\n",
    "    date_list = get_date_range()\n",
    "    while True:\n",
    "        print('trueeeeeeeeeeeeeeeeeeeeeeee<<><><><><><><<><><><>><>')\n",
    "\n",
    "        while date_list:\n",
    "            \n",
    "            \n",
    "            target_date = date_list.pop(0)  # Listenin başındaki tarihi al ve listeden çıkar\n",
    "\n",
    "            tarih_obj = datetime.strptime(target_date, '%d-%m-%Y')\n",
    "\n",
    "            target_day = tarih_obj.day\n",
    "            target_month = tarih_obj.month\n",
    "            target_year = tarih_obj.year\n",
    "\n",
    "            set_target_date(driver, target_year, target_month, target_day)\n",
    "\n",
    "            wait_for_page_loaded(driver)\n",
    "\n",
    "            # 'process_links' \n",
    "            process_links(driver)\n",
    "\n",
    "\n"
   ]
  },
  {
   "cell_type": "code",
   "execution_count": null,
   "id": "d3ac2802-0934-43e0-999f-4c10dac4f42a",
   "metadata": {
    "tags": []
   },
   "outputs": [],
   "source": [
    "geckodriver_path = \"../set/geckodriver\"\n",
    "# Firefox service nesnesini oluştur\n",
    "service = FirefoxService(executable_path=geckodriver_path)\n",
    "macKolikUrl = \"https://www.mackolik.com/futbol/canli-sonuclar\"\n",
    "# Firefox tarayıcısını service ile başlat\n",
    "driver = webdriver.Firefox(service=service)\n",
    "\n",
    "\n",
    "main_function(driver)"
   ]
  },
  {
   "cell_type": "code",
   "execution_count": null,
   "id": "00123bb6-0bd6-4b19-ab1c-33dc780c43f2",
   "metadata": {},
   "outputs": [],
   "source": []
  }
 ],
 "metadata": {
  "kernelspec": {
   "display_name": "Python 3 (ipykernel)",
   "language": "python",
   "name": "python3"
  },
  "language_info": {
   "codemirror_mode": {
    "name": "ipython",
    "version": 3
   },
   "file_extension": ".py",
   "mimetype": "text/x-python",
   "name": "python",
   "nbconvert_exporter": "python",
   "pygments_lexer": "ipython3",
   "version": "3.11.5"
  }
 },
 "nbformat": 4,
 "nbformat_minor": 5
}
