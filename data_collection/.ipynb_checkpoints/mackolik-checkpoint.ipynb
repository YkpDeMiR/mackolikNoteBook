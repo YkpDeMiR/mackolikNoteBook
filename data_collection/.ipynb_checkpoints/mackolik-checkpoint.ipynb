{
 "cells": [
  {
   "cell_type": "code",
   "execution_count": null,
   "id": "609c728e",
   "metadata": {},
   "outputs": [],
   "source": [
    "from selenium import webdriver"
   ]
  },
  {
   "cell_type": "code",
   "execution_count": null,
   "id": "6ffae6de",
   "metadata": {},
   "outputs": [],
   "source": [
    "# WebDriver yolu\n",
    "driver_path = './geckodriver'\n",
    "\n",
    "# Chrome tarayıcısını başlat\n",
    "driver = webdriver.Firefox(driver_path)\n",
    "# Hedef web sayfasına git\n",
    "driver.get(\"https://example.com\")"
   ]
  },
  {
   "cell_type": "code",
   "execution_count": null,
   "id": "3ddf8926",
   "metadata": {},
   "outputs": [],
   "source": [
    " # Hedef web sayfasına git\n",
    "driver.get(\"https://www.mackolik.com/futbol/canli-sonuclar\")\n",
    "\n",
    "# Belirli bir sınıfa sahip öğeleri bul\n",
    "elements = driver.find_elements_by_class_name(\"sample-class\")\n",
    "\n",
    "# Öğelerin metinlerini yazdır\n",
    "for element in elements:\n",
    "    print(element.text)\n",
    "\n",
    "# Tarayıcıyı kapat\n",
    "driver.quit()\n"
   ]
  },
  {
   "cell_type": "code",
   "execution_count": null,
   "id": "9318a98c",
   "metadata": {},
   "outputs": [],
   "source": [
    "\n",
    "\n",
    "\n"
   ]
  },
  {
   "cell_type": "code",
   "execution_count": 70,
   "id": "bc0eee8d",
   "metadata": {
    "tags": []
   },
   "outputs": [
    {
     "name": "stdout",
     "output_type": "stream",
     "text": [
      "------ MBS 2\n",
      "------ Maç Sonucu\n",
      "------ 1\n",
      "------ 1.78\n",
      "------ X\n",
      "------ 3.07\n",
      "------ 2\n",
      "------ 3.18\n",
      "------ Çifte Şans\n",
      "------ 1-X\n",
      "------ 1.13\n",
      "------ 1-2\n",
      "------ 1.15\n",
      "------ X-2\n",
      "------ 1.51\n",
      "------ 2,5 Alt/Üst\n",
      "------ Alt\n",
      "------ 1.58\n",
      "------ Üst\n",
      "------ 1.80\n",
      "------ Tüm oranlar\n"
     ]
    }
   ],
   "source": [
    "from selenium import webdriver\n",
    "from selenium.webdriver.common.by import By\n",
    "from selenium.webdriver.firefox.service import Service as FirefoxService\n",
    "import time\n",
    "\n",
    "\n",
    "# Geckodriver yolu\n",
    "geckodriver_path = \"./geckodriver\"\n",
    "\n",
    "# Firefox service nesnesini oluştur\n",
    "service = FirefoxService(executable_path=geckodriver_path)\n",
    "\n",
    "\n",
    "# Firefox tarayıcısını service ile başlat\n",
    "driver = webdriver.Firefox(service=service)\n",
    "# Hedef web sayfasına git\n",
    "\n",
    "driver.get(\"https://www.mackolik.com/futbol/canli-sonuclar\")\n",
    "time.sleep(5)\n",
    "\n",
    "# Hedef elementi bulma (örneğin, XPath ile)\n",
    "target_element = driver.find_element(By.XPATH, \"//*[@id='widget-livescore-match-row-a9emg5jcf32clqxxawi3hcowk']/div[2]\")  # Hedef elementin XPath'ini belirtin\n",
    "\n",
    "# Elementin içindeki metinleri alıp yazdırma\n",
    "all_text = target_element.text\n",
    "lines = all_text.split('\\n')\n",
    "\n",
    "for line in lines:\n",
    "    print('------', line)\n",
    "\n",
    "\n",
    "# /html/body/div[4]\n",
    "\n",
    "\n",
    "\n",
    "\n",
    "\n",
    "# Belirli bir class name'e sahip öğeyi bul\n",
    "# element = driver.find_element(By.XPATH, \"/html/body/div[1]/div/div/div/div/div[2]/div/button[2]/span\")\n",
    "# element.click()\n"
   ]
  },
  {
   "cell_type": "code",
   "execution_count": 60,
   "id": "0799e2c4-338d-44c5-a462-b018ee3b718b",
   "metadata": {
    "tags": []
   },
   "outputs": [],
   "source": [
    "openPage = True"
   ]
  },
  {
   "cell_type": "code",
   "execution_count": 15,
   "id": "d0e954c8-3bec-4adb-94b7-a65e90401c8d",
   "metadata": {
    "tags": []
   },
   "outputs": [
    {
     "data": {
      "text/plain": [
       "['11:00', 'UZT', 'BB Erzurumspor 0-3', '24 Erzincan', 'İY 0-0']"
      ]
     },
     "execution_count": 15,
     "metadata": {},
     "output_type": "execute_result"
    }
   ],
   "source": [
    "lines"
   ]
  },
  {
   "cell_type": "code",
   "execution_count": 18,
   "id": "b58a6d52-ee24-4904-9c04-7f3652d74479",
   "metadata": {
    "tags": []
   },
   "outputs": [
    {
     "data": {
      "text/plain": [
       "'BB Erzurumspor 0-3'"
      ]
     },
     "execution_count": 18,
     "metadata": {},
     "output_type": "execute_result"
    }
   ],
   "source": [
    "lines[2]"
   ]
  },
  {
   "cell_type": "code",
   "execution_count": 22,
   "id": "0a83d24e-b6ff-41f1-ab15-7985d4fbbb16",
   "metadata": {
    "tags": []
   },
   "outputs": [
    {
     "data": {
      "text/plain": [
       "['MAÇ SONUCU 01795 MBS 2',\n",
       " '1',\n",
       " '1.78',\n",
       " 'X',\n",
       " '3.07',\n",
       " '2',\n",
       " '3.18',\n",
       " 'ÇIFTE ŞANS 07575 MBS 2',\n",
       " '1-X',\n",
       " '1.13',\n",
       " '1-2',\n",
       " '1.15',\n",
       " 'X-2',\n",
       " '1.51',\n",
       " '1,5 ALT/ÜST 07441 MBS 2',\n",
       " 'Alt',\n",
       " '2.87',\n",
       " 'Üst',\n",
       " '1.18',\n",
       " '2,5 ALT/ÜST 07464 MBS 2',\n",
       " 'Alt',\n",
       " '1.58',\n",
       " 'Üst',\n",
       " '1.80',\n",
       " '3,5 ALT/ÜST 07417 MBS 2',\n",
       " 'Alt',\n",
       " '1.15',\n",
       " 'Üst',\n",
       " '3.14',\n",
       " '1. YARI 2,5 ALT/ÜST 07465 MBS 2',\n",
       " 'Alt',\n",
       " '-',\n",
       " 'Üst',\n",
       " '6.62',\n",
       " '1. YARI 1,5 ALT/ÜST 07574 MBS 2',\n",
       " 'Alt',\n",
       " '1.22',\n",
       " 'Üst',\n",
       " '2.68',\n",
       " '1. YARI 0,5 ALT/ÜST 07569 MBS 2',\n",
       " 'Alt',\n",
       " '2.41',\n",
       " 'Üst',\n",
       " '1.29',\n",
       " '1. YARI ÇIFTE ŞANS 07503 MBS 2',\n",
       " '1-X',\n",
       " '1.08',\n",
       " '1-2',\n",
       " '1.44',\n",
       " 'X-2',\n",
       " '1.25',\n",
       " '1. YARI SONUCU 07498 MBS 2',\n",
       " '1',\n",
       " '2.42',\n",
       " 'X',\n",
       " '1.90',\n",
       " '2',\n",
       " '3.83',\n",
       " '2. YARI SONUCU 07510 MBS 2',\n",
       " '1',\n",
       " '2.12',\n",
       " 'X',\n",
       " '2.30',\n",
       " '2',\n",
       " '3.38',\n",
       " 'TEK/ÇIFT 07492 MBS 2',\n",
       " 'Tek',\n",
       " '1.71',\n",
       " 'Çift',\n",
       " '1.65',\n",
       " 'TOPLAM GOL ARALIĞI 07405 MBS 2',\n",
       " '0-1',\n",
       " '2.75',\n",
       " '2-3',\n",
       " '1.71',\n",
       " '4-5',\n",
       " '3.91',\n",
       " '6+',\n",
       " '18.35',\n",
       " 'KARŞILIKLI GOL 07482 MBS 2',\n",
       " 'Var',\n",
       " '1.66',\n",
       " 'Yok',\n",
       " '1.70',\n",
       " 'HND. MS (0:1) 07486 MBS 2',\n",
       " '1',\n",
       " '3.25',\n",
       " 'X',\n",
       " '3.28',\n",
       " '+1h',\n",
       " '1.55',\n",
       " 'MS VE 4,5 ALT/ÜST 20674 MBS 2',\n",
       " '1 ve Alt',\n",
       " '1.95',\n",
       " 'X ve Alt',\n",
       " '2.96',\n",
       " '2 ve Alt',\n",
       " '3.37',\n",
       " '1 ve Üst',\n",
       " '10.40',\n",
       " 'X ve Üst',\n",
       " '34.00',\n",
       " '2 ve Üst',\n",
       " '22.60',\n",
       " 'MS VE 1,5 ALT/ÜST 07462 MBS 2',\n",
       " '1 ve Alt',\n",
       " '6.22',\n",
       " 'X ve Alt',\n",
       " '8.91',\n",
       " '2 ve Alt',\n",
       " '9.33',\n",
       " '1 ve Üst',\n",
       " '2.16',\n",
       " 'X ve Üst',\n",
       " '4.16',\n",
       " '2 ve Üst',\n",
       " '4.57',\n",
       " 'MS VE 2,5 ALT/ÜST 07459 MBS 2',\n",
       " '1 ve Alt',\n",
       " '3.77',\n",
       " 'X ve Alt',\n",
       " '3.68',\n",
       " '2 ve Alt',\n",
       " '6.20',\n",
       " '1 ve Üst',\n",
       " '2.89',\n",
       " 'X ve Üst',\n",
       " '12.65',\n",
       " '2 ve Üst',\n",
       " '5.58',\n",
       " 'MS VE 3,5 ALT/ÜST 07458 MBS 2',\n",
       " '1 ve Alt',\n",
       " '2.30',\n",
       " 'X ve Alt',\n",
       " '3.67',\n",
       " '2 ve Alt',\n",
       " '3.82',\n",
       " '1 ve Üst',\n",
       " '5.68',\n",
       " 'X ve Üst',\n",
       " '12.60',\n",
       " '2 ve Üst',\n",
       " '12.80',\n",
       " '1. YARI DEPLASMAN 0,5 ALT/ÜST 07457 MBS 2',\n",
       " 'Alt',\n",
       " '1.33',\n",
       " 'Üst',\n",
       " '2.28',\n",
       " '12+',\n",
       " '-',\n",
       " 'EV SAHIBI 1,5 A/Ü 07488 MBS 2',\n",
       " 'Alt',\n",
       " '1.51',\n",
       " 'Üst',\n",
       " '1.90',\n",
       " 'EN ÇOK GOL OLACAK YARI 07586 MBS 2',\n",
       " '1. Yarı',\n",
       " '2.96',\n",
       " 'Eşit',\n",
       " '3.09',\n",
       " '2. Yarı',\n",
       " '1.85',\n",
       " 'DEPLASMAN 0,5 A/Ü 07456 MBS 2',\n",
       " 'Alt',\n",
       " '2.32',\n",
       " 'Üst',\n",
       " '1.32',\n",
       " '1. YARI KARŞILIKLI GOL 07420 MBS 2',\n",
       " 'Var',\n",
       " '4.48',\n",
       " 'Yok',\n",
       " '-',\n",
       " '1. YARI EV SAHIBI 0,5 ALT/ÜST 07406 MBS 2',\n",
       " 'Alt',\n",
       " '1.60',\n",
       " 'Üst',\n",
       " '1.76']"
      ]
     },
     "execution_count": 22,
     "metadata": {},
     "output_type": "execute_result"
    }
   ],
   "source": [
    "lines"
   ]
  },
  {
   "cell_type": "code",
   "execution_count": null,
   "id": "23e9dc76-ef6d-415d-aada-4c4c8e3b9492",
   "metadata": {},
   "outputs": [],
   "source": []
  },
  {
   "cell_type": "code",
   "execution_count": 8,
   "id": "b386e04c-e943-4545-9556-3d7f54566b9e",
   "metadata": {
    "tags": []
   },
   "outputs": [
    {
     "ename": "TimeoutException",
     "evalue": "Message: \n",
     "output_type": "error",
     "traceback": [
      "\u001b[0;31m---------------------------------------------------------------------------\u001b[0m",
      "\u001b[0;31mTimeoutException\u001b[0m                          Traceback (most recent call last)",
      "Cell \u001b[0;32mIn[8], line 22\u001b[0m\n\u001b[1;32m     20\u001b[0m desired_date \u001b[38;5;241m=\u001b[39m \u001b[38;5;124m'\u001b[39m\u001b[38;5;124m2023-12-06\u001b[39m\u001b[38;5;124m'\u001b[39m  \u001b[38;5;66;03m# İstediğiniz tarih\u001b[39;00m\n\u001b[1;32m     21\u001b[0m js_date_script \u001b[38;5;241m=\u001b[39m \u001b[38;5;124mf\u001b[39m\u001b[38;5;124m'\u001b[39m\u001b[38;5;124mdocument.querySelector(\u001b[39m\u001b[38;5;130;01m\\'\u001b[39;00m\u001b[38;5;124m[data-date=\u001b[39m\u001b[38;5;124m\"\u001b[39m\u001b[38;5;132;01m{\u001b[39;00mdesired_date\u001b[38;5;132;01m}\u001b[39;00m\u001b[38;5;124m\"\u001b[39m\u001b[38;5;124m]\u001b[39m\u001b[38;5;130;01m\\'\u001b[39;00m\u001b[38;5;124m).click();\u001b[39m\u001b[38;5;124m'\u001b[39m\n\u001b[0;32m---> 22\u001b[0m date_element \u001b[38;5;241m=\u001b[39m wait\u001b[38;5;241m.\u001b[39muntil(EC\u001b[38;5;241m.\u001b[39melement_to_be_clickable((By\u001b[38;5;241m.\u001b[39mCSS_SELECTOR, \u001b[38;5;124m'\u001b[39m\u001b[38;5;124m.widget-datepicker__body\u001b[39m\u001b[38;5;124m'\u001b[39m)))\n\u001b[1;32m     23\u001b[0m driver\u001b[38;5;241m.\u001b[39mexecute_script(js_date_script)\n\u001b[1;32m     25\u001b[0m \u001b[38;5;66;03m# WebDriver'ı kapat\u001b[39;00m\n",
      "File \u001b[0;32m~/anaconda3/lib/python3.11/site-packages/selenium/webdriver/support/wait.py:105\u001b[0m, in \u001b[0;36mWebDriverWait.until\u001b[0;34m(self, method, message)\u001b[0m\n\u001b[1;32m    103\u001b[0m     \u001b[38;5;28;01mif\u001b[39;00m time\u001b[38;5;241m.\u001b[39mmonotonic() \u001b[38;5;241m>\u001b[39m end_time:\n\u001b[1;32m    104\u001b[0m         \u001b[38;5;28;01mbreak\u001b[39;00m\n\u001b[0;32m--> 105\u001b[0m \u001b[38;5;28;01mraise\u001b[39;00m TimeoutException(message, screen, stacktrace)\n",
      "\u001b[0;31mTimeoutException\u001b[0m: Message: \n"
     ]
    }
   ],
   "source": [
    "from selenium import webdriver\n",
    "from selenium.webdriver.common.by import By\n",
    "from selenium.webdriver.support.ui import WebDriverWait\n",
    "from selenium.webdriver.support import expected_conditions as EC\n",
    "\n",
    "# WebDriver'ı başlat\n",
    "driver = webdriver.Chrome()\n",
    "\n",
    "# Web sayfasına gidin\n",
    "driver.get(\"https://www.mackolik.com/futbol/canli-sonuclar\")  # Sayfanın doğru URL'sini girin\n",
    "\n",
    "# Tarih seçimi kutusunu açmak için JavaScript kodunu kullanın\n",
    "js_script = 'document.querySelector(\".widget-datepicker__value\").click();'\n",
    "driver.execute_script(js_script)\n",
    "\n",
    "# Bekleyiciyi tanımlayın\n",
    "wait = WebDriverWait(driver, 10)\n",
    "\n",
    "# Belirli bir tarihi seçmek için JavaScript ile tarih seçim kutusunu kullanın\n",
    "desired_date = '2023-12-06'  # İstediğiniz tarih\n",
    "js_date_script = f'document.querySelector(\\'[data-date=\"{desired_date}\"]\\').click();'\n",
    "date_element = wait.until(EC.element_to_be_clickable((By.CSS_SELECTOR, '.widget-datepicker__body')))\n",
    "driver.execute_script(js_date_script)\n",
    "\n",
    "# WebDriver'ı kapat\n",
    "driver.quit()\n"
   ]
  },
  {
   "cell_type": "code",
   "execution_count": 71,
   "id": "1ec935b2-dc6a-4567-992c-bf02fff0b0ce",
   "metadata": {
    "tags": []
   },
   "outputs": [
    {
     "data": {
      "text/plain": [
       "['MBS 2',\n",
       " 'Maç Sonucu',\n",
       " '1',\n",
       " '1.78',\n",
       " 'X',\n",
       " '3.07',\n",
       " '2',\n",
       " '3.18',\n",
       " 'Çifte Şans',\n",
       " '1-X',\n",
       " '1.13',\n",
       " '1-2',\n",
       " '1.15',\n",
       " 'X-2',\n",
       " '1.51',\n",
       " '2,5 Alt/Üst',\n",
       " 'Alt',\n",
       " '1.58',\n",
       " 'Üst',\n",
       " '1.80',\n",
       " 'Tüm oranlar']"
      ]
     },
     "execution_count": 71,
     "metadata": {},
     "output_type": "execute_result"
    }
   ],
   "source": [
    "lines"
   ]
  },
  {
   "cell_type": "code",
   "execution_count": 65,
   "id": "ae272485-d637-43a3-b060-47f6d3270464",
   "metadata": {
    "tags": []
   },
   "outputs": [],
   "source": [
    "import pandas as pd"
   ]
  },
  {
   "cell_type": "code",
   "execution_count": 51,
   "id": "28831c99-a25e-4c5c-9d83-95e22b3f0f77",
   "metadata": {
    "tags": []
   },
   "outputs": [],
   "source": [
    "# df = pd.DataFrame(columns=['Home','Away','Date'])"
   ]
  },
  {
   "cell_type": "code",
   "execution_count": 47,
   "id": "394ee89c-602c-42d0-a853-3e3dc97ed35d",
   "metadata": {
    "tags": []
   },
   "outputs": [],
   "source": [
    "dic ={'Home':lines[0] ,'Away':lines[1],'Date':lines[6].split('|')[0]}"
   ]
  },
  {
   "cell_type": "code",
   "execution_count": 56,
   "id": "40f2dd32-6755-4db9-a72f-1f8a0532cecb",
   "metadata": {
    "tags": []
   },
   "outputs": [],
   "source": [
    "df = pd.DataFrame([dic])"
   ]
  },
  {
   "cell_type": "code",
   "execution_count": null,
   "id": "86f54382-74ea-4a5e-b0d9-c7beb3d5dc58",
   "metadata": {},
   "outputs": [],
   "source": [
    "df.append()"
   ]
  },
  {
   "cell_type": "code",
   "execution_count": 57,
   "id": "21357537-20eb-4824-9e5d-c536429d9c89",
   "metadata": {
    "tags": []
   },
   "outputs": [
    {
     "data": {
      "text/html": [
       "<div>\n",
       "<style scoped>\n",
       "    .dataframe tbody tr th:only-of-type {\n",
       "        vertical-align: middle;\n",
       "    }\n",
       "\n",
       "    .dataframe tbody tr th {\n",
       "        vertical-align: top;\n",
       "    }\n",
       "\n",
       "    .dataframe thead th {\n",
       "        text-align: right;\n",
       "    }\n",
       "</style>\n",
       "<table border=\"1\" class=\"dataframe\">\n",
       "  <thead>\n",
       "    <tr style=\"text-align: right;\">\n",
       "      <th></th>\n",
       "      <th>Home</th>\n",
       "      <th>Away</th>\n",
       "      <th>Date</th>\n",
       "    </tr>\n",
       "  </thead>\n",
       "  <tbody>\n",
       "    <tr>\n",
       "      <th>0</th>\n",
       "      <td>BB Erzurumspor</td>\n",
       "      <td>24 Erzincanspor</td>\n",
       "      <td>06-12-23</td>\n",
       "    </tr>\n",
       "  </tbody>\n",
       "</table>\n",
       "</div>"
      ],
      "text/plain": [
       "             Home             Away       Date\n",
       "0  BB Erzurumspor  24 Erzincanspor  06-12-23 "
      ]
     },
     "execution_count": 57,
     "metadata": {},
     "output_type": "execute_result"
    }
   ],
   "source": [
    "df"
   ]
  },
  {
   "cell_type": "code",
   "execution_count": 75,
   "id": "5cf5f259-746c-465c-9737-511b727a0be9",
   "metadata": {
    "tags": []
   },
   "outputs": [],
   "source": []
  },
  {
   "cell_type": "code",
   "execution_count": 79,
   "id": "448851bc-20cb-4930-ab2a-424dcbe5212a",
   "metadata": {
    "tags": []
   },
   "outputs": [],
   "source": [
    "cs = lines.index('2,5 Alt/Üst'')\n",
    "MAC_SONUCU_1 = lines[ms_1+2]\n",
    "MAC_SONUCU_x = lines[ms_1+4]\n",
    "MAC_SONUCU_2 = lines[ms_1+6]"
   ]
  },
  {
   "cell_type": "code",
   "execution_count": 80,
   "id": "5691aaaf-f79e-4143-a40f-2355f4d3c71a",
   "metadata": {
    "tags": []
   },
   "outputs": [
    {
     "data": {
      "text/plain": [
       "'3.18'"
      ]
     },
     "execution_count": 80,
     "metadata": {},
     "output_type": "execute_result"
    }
   ],
   "source": [
    "MAC_SONUCU_2"
   ]
  },
  {
   "cell_type": "code",
   "execution_count": 74,
   "id": "3170bc18-a956-49c7-8e1e-b3aa3784597b",
   "metadata": {
    "tags": []
   },
   "outputs": [
    {
     "data": {
      "text/plain": [
       "['MBS 2',\n",
       " 'Maç Sonucu',\n",
       " '1',\n",
       " '1.78',\n",
       " 'X',\n",
       " '3.07',\n",
       " '2',\n",
       " '3.18',\n",
       " 'Çifte Şans',\n",
       " '1-X',\n",
       " '1.13',\n",
       " '1-2',\n",
       " '1.15',\n",
       " 'X-2',\n",
       " '1.51',\n",
       " '2,5 Alt/Üst',\n",
       " 'Alt',\n",
       " '1.58',\n",
       " 'Üst',\n",
       " '1.80',\n",
       " 'Tüm oranlar']"
      ]
     },
     "execution_count": 74,
     "metadata": {},
     "output_type": "execute_result"
    }
   ],
   "source": [
    "lines"
   ]
  },
  {
   "cell_type": "code",
   "execution_count": 90,
   "id": "bf356d59-b41a-457d-a6c6-bb9011a03e64",
   "metadata": {
    "tags": []
   },
   "outputs": [],
   "source": [
    "import numpy as np\n",
    "# AU = lines.index('dasdsa')"
   ]
  },
  {
   "cell_type": "code",
   "execution_count": 96,
   "id": "fc443412-cad1-45d3-b6f6-c604fb91c1ea",
   "metadata": {
    "tags": []
   },
   "outputs": [],
   "source": [
    "if 'dasdsa' in lines:\n",
    "    AU = lines.index('dasdsa')\n",
    "    AU = 1.5\n",
    "else:\n",
    "    AU = np.nan\n",
    "    "
   ]
  },
  {
   "cell_type": "code",
   "execution_count": 97,
   "id": "7f625a23-945a-4fb7-a285-230af10f25b4",
   "metadata": {
    "tags": []
   },
   "outputs": [
    {
     "data": {
      "text/plain": [
       "nan"
      ]
     },
     "execution_count": 97,
     "metadata": {},
     "output_type": "execute_result"
    }
   ],
   "source": [
    "AU"
   ]
  },
  {
   "cell_type": "code",
   "execution_count": 98,
   "id": "7d96fed4-add8-4a35-a25b-c836b99ac145",
   "metadata": {
    "tags": []
   },
   "outputs": [
    {
     "data": {
      "text/plain": [
       "['MBS 2',\n",
       " 'Maç Sonucu',\n",
       " '1',\n",
       " '1.78',\n",
       " 'X',\n",
       " '3.07',\n",
       " '2',\n",
       " '3.18',\n",
       " 'Çifte Şans',\n",
       " '1-X',\n",
       " '1.13',\n",
       " '1-2',\n",
       " '1.15',\n",
       " 'X-2',\n",
       " '1.51',\n",
       " '2,5 Alt/Üst',\n",
       " 'Alt',\n",
       " '1.58',\n",
       " 'Üst',\n",
       " '1.80',\n",
       " 'Tüm oranlar']"
      ]
     },
     "execution_count": 98,
     "metadata": {},
     "output_type": "execute_result"
    }
   ],
   "source": [
    "lines"
   ]
  },
  {
   "cell_type": "code",
   "execution_count": null,
   "id": "d4934924-92c0-4845-84ab-d36a2db6807f",
   "metadata": {},
   "outputs": [],
   "source": []
  }
 ],
 "metadata": {
  "kernelspec": {
   "display_name": "Python 3 (ipykernel)",
   "language": "python",
   "name": "python3"
  },
  "language_info": {
   "codemirror_mode": {
    "name": "ipython",
    "version": 3
   },
   "file_extension": ".py",
   "mimetype": "text/x-python",
   "name": "python",
   "nbconvert_exporter": "python",
   "pygments_lexer": "ipython3",
   "version": "3.11.5"
  }
 },
 "nbformat": 4,
 "nbformat_minor": 5
}
