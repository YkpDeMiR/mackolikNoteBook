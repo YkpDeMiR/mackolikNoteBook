{
 "cells": [
  {
   "cell_type": "code",
   "execution_count": 1,
   "id": "609c728e",
   "metadata": {},
   "outputs": [],
   "source": [
    "from selenium import webdriver"
   ]
  },
  {
   "cell_type": "code",
   "execution_count": 33,
   "id": "bc0eee8d",
   "metadata": {
    "tags": []
   },
   "outputs": [
    {
     "name": "stdout",
     "output_type": "stream",
     "text": [
      "2022\n",
      "2021\n",
      "2020\n",
      "Junior\n",
      "Medellín\n",
      "3\n",
      "MS\n",
      "2\n",
      "(İY 2 - 1)\n",
      "10/12/2023 | A Ligi | Stat: Estadio Metropolitano Roberto Meléndez\n",
      "Tümü\n",
      "Maç Sonucu\n",
      "Devre Sonucu\n",
      "Altı/Üstü\n",
      "Çifte Şans\n",
      "MAÇ SONUCU 09346 MBS 3\n",
      "1\n",
      "1.71\n",
      "X\n",
      "2.73\n",
      "2\n",
      "3.28\n",
      "ÇIFTE ŞANS 09357 MBS 3\n",
      "1-X\n",
      "1.07\n",
      "1-2\n",
      "1.13\n",
      "X-2\n",
      "1.45\n",
      "2,5 ALT/ÜST 09362 MBS 3\n",
      "Alt\n",
      "1.44\n",
      "Üst\n",
      "1.82\n",
      "1. YARI 0,5 ALT/ÜST 09385 MBS 3\n",
      "Alt\n",
      "2.18\n",
      "Üst\n",
      "1.27\n",
      "1. YARI ÇIFTE ŞANS 09373 MBS 3\n",
      "1-X\n",
      "-\n",
      "1-2\n",
      "1.42\n",
      "X-2\n",
      "1.20\n",
      "1. YARI SONUCU 09372 MBS 3\n",
      "1\n",
      "2.32\n",
      "X\n",
      "1.76\n",
      "2\n",
      "3.90\n",
      "2. YARI SONUCU 09389 MBS 3\n",
      "1\n",
      "2.05\n",
      "X\n",
      "2.10\n",
      "2\n",
      "3.44\n",
      "TEK/ÇIFT 09419 MBS 3\n",
      "Tek\n",
      "1.67\n",
      "Çift\n",
      "1.55\n",
      "KARŞILIKLI GOL 09366 MBS 3\n",
      "Var\n",
      "1.69\n",
      "Yok\n",
      "1.54\n",
      "HND. MS (0:1) 09359 MBS 3\n",
      "1\n",
      "3.16\n",
      "X\n",
      "3.11\n",
      "+1h\n",
      "1.47\n",
      "1. YARI DEPLASMAN 0,5 ALT/ÜST 09705 MBS 3\n",
      "Alt\n",
      "1.23\n",
      "Üst\n",
      "2.33\n",
      "12+\n",
      "-\n",
      "EV SAHIBI 1,5 A/Ü 09391 MBS 3\n",
      "Alt\n",
      "1.39\n",
      "Üst\n",
      "1.90\n",
      "DEPLASMAN 0,5 A/Ü 09416 MBS 3\n",
      "Alt\n",
      "2.05\n",
      "Üst\n",
      "1.32\n",
      "1. YARI KARŞILIKLI GOL 09424 MBS 3\n",
      "Var\n",
      "4.49\n",
      "Yok\n",
      "-\n",
      "1. YARI EV SAHIBI 0,5 ALT/ÜST 09426 MBS 3\n",
      "Alt\n",
      "1.50\n",
      "Üst\n",
      "1.73\n"
     ]
    },
    {
     "ename": "NameError",
     "evalue": "name 'StaleElementReferenceException' is not defined",
     "output_type": "error",
     "traceback": [
      "\u001b[0;31m---------------------------------------------------------------------------\u001b[0m",
      "\u001b[0;31mStaleElementReferenceException\u001b[0m            Traceback (most recent call last)",
      "Cell \u001b[0;32mIn[33], line 137\u001b[0m\n\u001b[1;32m    135\u001b[0m \u001b[38;5;28;01mtry\u001b[39;00m:\n\u001b[0;32m--> 137\u001b[0m     elemnt\u001b[38;5;241m.\u001b[39mclick()\n\u001b[1;32m    138\u001b[0m     driver\u001b[38;5;241m.\u001b[39mswitch_to\u001b[38;5;241m.\u001b[39mwindow(driver\u001b[38;5;241m.\u001b[39mwindow_handles[\u001b[38;5;241m1\u001b[39m])\n",
      "File \u001b[0;32m~/anaconda3/lib/python3.11/site-packages/selenium/webdriver/remote/webelement.py:94\u001b[0m, in \u001b[0;36mWebElement.click\u001b[0;34m(self)\u001b[0m\n\u001b[1;32m     93\u001b[0m \u001b[38;5;250m\u001b[39m\u001b[38;5;124;03m\"\"\"Clicks the element.\"\"\"\u001b[39;00m\n\u001b[0;32m---> 94\u001b[0m \u001b[38;5;28mself\u001b[39m\u001b[38;5;241m.\u001b[39m_execute(Command\u001b[38;5;241m.\u001b[39mCLICK_ELEMENT)\n",
      "File \u001b[0;32m~/anaconda3/lib/python3.11/site-packages/selenium/webdriver/remote/webelement.py:395\u001b[0m, in \u001b[0;36mWebElement._execute\u001b[0;34m(self, command, params)\u001b[0m\n\u001b[1;32m    394\u001b[0m params[\u001b[38;5;124m\"\u001b[39m\u001b[38;5;124mid\u001b[39m\u001b[38;5;124m\"\u001b[39m] \u001b[38;5;241m=\u001b[39m \u001b[38;5;28mself\u001b[39m\u001b[38;5;241m.\u001b[39m_id\n\u001b[0;32m--> 395\u001b[0m \u001b[38;5;28;01mreturn\u001b[39;00m \u001b[38;5;28mself\u001b[39m\u001b[38;5;241m.\u001b[39m_parent\u001b[38;5;241m.\u001b[39mexecute(command, params)\n",
      "File \u001b[0;32m~/anaconda3/lib/python3.11/site-packages/selenium/webdriver/remote/webdriver.py:348\u001b[0m, in \u001b[0;36mWebDriver.execute\u001b[0;34m(self, driver_command, params)\u001b[0m\n\u001b[1;32m    347\u001b[0m \u001b[38;5;28;01mif\u001b[39;00m response:\n\u001b[0;32m--> 348\u001b[0m     \u001b[38;5;28mself\u001b[39m\u001b[38;5;241m.\u001b[39merror_handler\u001b[38;5;241m.\u001b[39mcheck_response(response)\n\u001b[1;32m    349\u001b[0m     response[\u001b[38;5;124m\"\u001b[39m\u001b[38;5;124mvalue\u001b[39m\u001b[38;5;124m\"\u001b[39m] \u001b[38;5;241m=\u001b[39m \u001b[38;5;28mself\u001b[39m\u001b[38;5;241m.\u001b[39m_unwrap_value(response\u001b[38;5;241m.\u001b[39mget(\u001b[38;5;124m\"\u001b[39m\u001b[38;5;124mvalue\u001b[39m\u001b[38;5;124m\"\u001b[39m, \u001b[38;5;28;01mNone\u001b[39;00m))\n",
      "File \u001b[0;32m~/anaconda3/lib/python3.11/site-packages/selenium/webdriver/remote/errorhandler.py:229\u001b[0m, in \u001b[0;36mErrorHandler.check_response\u001b[0;34m(self, response)\u001b[0m\n\u001b[1;32m    228\u001b[0m     \u001b[38;5;28;01mraise\u001b[39;00m exception_class(message, screen, stacktrace, alert_text)  \u001b[38;5;66;03m# type: ignore[call-arg]  # mypy is not smart enough here\u001b[39;00m\n\u001b[0;32m--> 229\u001b[0m \u001b[38;5;28;01mraise\u001b[39;00m exception_class(message, screen, stacktrace)\n",
      "\u001b[0;31mStaleElementReferenceException\u001b[0m: Message: The element with the reference f7583350-079f-426f-b26a-6e84020b7876 is stale; either its node document is not the active document, or it is no longer connected to the DOM; For documentation on this error, please visit: https://www.selenium.dev/documentation/webdriver/troubleshooting/errors#stale-element-reference-exception\nStacktrace:\nRemoteError@chrome://remote/content/shared/RemoteError.sys.mjs:8:8\nWebDriverError@chrome://remote/content/shared/webdriver/Errors.sys.mjs:189:5\nStaleElementReferenceError@chrome://remote/content/shared/webdriver/Errors.sys.mjs:676:5\ngetKnownElement@chrome://remote/content/marionette/json.sys.mjs:286:11\ndeserializeJSON@chrome://remote/content/marionette/json.sys.mjs:233:20\ncloneObject@chrome://remote/content/marionette/json.sys.mjs:54:24\ndeserializeJSON@chrome://remote/content/marionette/json.sys.mjs:240:16\njson.deserialize@chrome://remote/content/marionette/json.sys.mjs:244:10\nreceiveMessage@chrome://remote/content/marionette/actors/MarionetteCommandsChild.sys.mjs:72:30\n",
      "\nDuring handling of the above exception, another exception occurred:\n",
      "\u001b[0;31mNameError\u001b[0m                                 Traceback (most recent call last)",
      "Cell \u001b[0;32mIn[33], line 150\u001b[0m\n\u001b[1;32m    147\u001b[0m     driver\u001b[38;5;241m.\u001b[39mclose()\n\u001b[1;32m    148\u001b[0m     driver\u001b[38;5;241m.\u001b[39mswitch_to\u001b[38;5;241m.\u001b[39mwindow(driver\u001b[38;5;241m.\u001b[39mwindow_handles[\u001b[38;5;241m0\u001b[39m])\n\u001b[0;32m--> 150\u001b[0m \u001b[38;5;28;01mexcept\u001b[39;00m StaleElementReferenceException:\n\u001b[1;32m    151\u001b[0m     \u001b[38;5;28mprint\u001b[39m(\u001b[38;5;124m\"\u001b[39m\u001b[38;5;124mStale Element Reference Exception. Retrying.\u001b[39m\u001b[38;5;124m\"\u001b[39m)\n\u001b[1;32m    152\u001b[0m     \u001b[38;5;28;01mcontinue\u001b[39;00m\n",
      "\u001b[0;31mNameError\u001b[0m: name 'StaleElementReferenceException' is not defined"
     ]
    }
   ],
   "source": [
    "from selenium import webdriver\n",
    "from selenium.webdriver.common.by import By\n",
    "from selenium.webdriver.firefox.service import Service as FirefoxService\n",
    "import time\n",
    "from selenium.webdriver.support.ui import WebDriverWait\n",
    "from selenium.webdriver.support import expected_conditions as EC\n",
    "from bs4 import BeautifulSoup\n",
    "\n",
    "# Geckodriver yolu\n",
    "geckodriver_path = \"./geckodriver\"\n",
    "\n",
    "# Firefox service nesnesini oluştur\n",
    "service = FirefoxService(executable_path=geckodriver_path)\n",
    "\n",
    "\n",
    "# Firefox tarayıcısını service ile başlat\n",
    "driver = webdriver.Firefox(service=service)\n",
    "# Hedef web sayfasına git\n",
    "\n",
    "macKolikUrl=\"https://www.mackolik.com/futbol/canli-sonuclar\"\n",
    "\n",
    "driver.get(macKolikUrl)\n",
    "#time.sleep(5)\n",
    "wait = WebDriverWait(driver, 10)\n",
    "cookies=wait.until(EC.element_to_be_clickable((By.XPATH, '//*[@id=\"didomi-notice-agree-button\"]')))\n",
    "cookies.click()\n",
    "clock=wait.until(EC.element_to_be_clickable((By.XPATH, \"//span[.='Saat']\")))\n",
    "clock.click()\n",
    "\n",
    "\n",
    "dateIcon = wait.until(EC.element_to_be_clickable((By.CSS_SELECTOR, '.widget-dateslider__datepicker-toggle')))\n",
    "\n",
    "# Click on the element\n",
    "dateIcon.click()\n",
    "butunTakvim = wait.until(EC.element_to_be_clickable((By.XPATH,'/html/body/div[5]/div/main/div[1]/div[1]/div[1]/div[1]/div[1]/div[2]')))\n",
    "html_contentTakvim = butunTakvim.get_attribute('outerHTML')\n",
    "# print(html_contentTakvim)\n",
    "\n",
    "\n",
    "\n",
    "# BeautifulSoup ile HTML içeriğini parse et\n",
    "soup = BeautifulSoup(html_contentTakvim, 'html.parser')\n",
    "\n",
    "# Günü ve Yılı al\n",
    "day = int(soup.find('td', {'class': 'widget-datepicker__calendar-body-cell--selected-day'}).text.strip())\n",
    "year = int(soup.find('div', {'class': 'widget-datepicker__selector--year'}).find('div', {'class': 'widget-datepicker__value'}).text.strip())\n",
    "\n",
    "#print(f\"day: {day}, year: {year}\")\n",
    "\n",
    "current_year = int(driver.find_element(By.XPATH, '/html/body/div[5]/div/main/div[1]/div[1]/div[1]/div[1]/div[1]/div[2]/div/div[1]/div[2]/div[2]').text)\n",
    "\n",
    "\n",
    "previous_year_button = wait.until(EC.element_to_be_clickable((By.XPATH, \"//div[@class='widget-dateslider__datepicker widget-dateslider__datepicker--open']/div/div/div[2]/div[1]\")))\n",
    "\n",
    "# Hedef yılı belirle (örneğin, 2020)\n",
    "target_year = 2020\n",
    "\n",
    "\n",
    "\n",
    "# Hedef yıla kadar önceki yıl düğmesine tıkla\n",
    "while current_year > target_year:\n",
    "    #print(str(target_year)+ \"target year\")\n",
    "    previous_year_button.click()\n",
    "    #time.sleep(1)\n",
    "    current_year -= 1\n",
    "    print(current_year)\n",
    "    # Yeni yılı kontrol et\n",
    "    current_year = int(driver.find_element(By.XPATH, '/html/body/div[5]/div/main/div[1]/div[1]/div[1]/div[1]/div[1]/div[2]/div/div[1]/div[2]/div[2]').text)\n",
    "    #print(current_year)\n",
    "\n",
    "    \n",
    "previous_month_button= wait.until(EC.element_to_be_clickable((By.XPATH, \"/html/body/div[5]/div/main/div[1]/div[1]/div[1]/div[1]/div[1]/div[2]/div/div[1]/div[1]/div[1]\")))\n",
    "\n",
    "#wait = WebDriverWait(driver, 10)  # Adjust the timeout as needed\n",
    "element = wait.until(EC.presence_of_element_located((By.XPATH, \"/html/body/div[5]/div/main/div[1]/div[1]/div[1]/div[1]/div[1]/div[2]/div/div[1]/div[1]/div[2]\")))\n",
    "month_str = element.text.strip()[:3]\n",
    "\n",
    "#print(month_str)\n",
    "# Map the month abbreviation to a numeric value\n",
    "month_mapping = {'OCA': 1, 'ŞUB': 2, 'MAR': 3, 'NIS': 4, 'MAY': 5, 'HAZ': 6, 'TEM': 7, 'AĞU': 8, 'EYL': 9, 'EKI': 10, 'KAS': 11, 'ARA': 12}\n",
    "#print(month_str+\"month_str\")\n",
    "month_numeric = month_mapping.get(month_str)\n",
    "\n",
    "target_month=11\n",
    "month_numeric = month_mapping.get(month_str)\n",
    "\n",
    "\n",
    "# Loop until you reach the target month\n",
    "while month_numeric != target_month:\n",
    "    #print(str(month_numeric)+\"month_numeric\")\n",
    "    #print(str(target_month)+\"target_month\")\n",
    "\n",
    "    \n",
    "    previous_month_button.click()\n",
    "    #time.sleep(1)\n",
    "\n",
    "    element = wait.until(EC.presence_of_element_located((By.XPATH, \"/html/body/div[5]/div/main/div[1]/div[1]/div[1]/div[1]/div[1]/div[2]/div/div[1]/div[1]/div[2]\")))\n",
    "    month_str = element.text.strip()[:3]\n",
    "    #print(month_str+\"month_str\")\n",
    "    month_numeric = month_mapping.get(month_str)\n",
    "    #print(month_numeric)\n",
    "    #print(target_month)\n",
    "\n",
    "    \n",
    "\n",
    "    \n",
    "#print(current_month)\n",
    "                      \n",
    "#prevoiuseyear = wait.until(EC.element_to_be_clickable((By.XPATH, \"//div[@class='widget-dateslider__datepicker widget-dateslider__datepicker--open']/div/div/div[2]/div[1]\")))\n",
    "#prevoiuseyear.click()\n",
    "\n",
    "#prevoiusemonthbutton = wait.until(EC.element_to_be_clickable((By.XPATH, \"//div[@class='widget-dateslider__datepicker widget-dateslider__datepicker--open']/div/div/div[1]/div[1]\")))\n",
    "#prevoiusemonth.click()\n",
    "\n",
    "target_day=5\n",
    "day_element = driver.find_element(By.XPATH, f\"//td[@class='widget-datepicker__calendar-body-cell' and text()='{target_day}']\")\n",
    "\n",
    "day_element.click()\n",
    "\n",
    "\n",
    "\n",
    "\n",
    "\n",
    "# XPath'leri tanımla\n",
    "\n",
    "container_xpath = \"//div[@class='match-row__match-content']\"\n",
    "\n",
    "# Container elementini bul\n",
    "allLinksElements = driver.find_elements(By.XPATH, container_xpath)\n",
    "\n",
    "\n",
    "# Tüm alt div elemanlarını seç ve tıkla\n",
    "#rows = container_element.find_elements(By.XPATH, f\".{row_base_xpath}\")\n",
    "for elemnt in allLinksElements:\n",
    "    try:\n",
    "        \n",
    "        elemnt.click()\n",
    "        driver.switch_to.window(driver.window_handles[1])\n",
    "        iddiaButton = wait.until(EC.element_to_be_clickable((By.XPATH, \"/html/body/div[5]/div[1]/div[2]/div/a[3]/span[1]\")))\n",
    "        iddiaButton.click()#//div[@class='p0c-soccer-match-details-header']\n",
    "        macScorboard = wait.until(EC.element_to_be_clickable((By.XPATH, \"//div[@class='p0c-soccer-match-details-header']\")))\n",
    "        macScorboard.text\n",
    "        print(macScorboard.text)\n",
    "        macDetailsData = wait.until(EC.element_to_be_clickable((By.XPATH, \"/html/body/div[5]/div[2]/main/div[1]/div[2]/div/div[2]/div\")))\n",
    "        macDetailsData.text\n",
    "        print(macDetailsData.text)\n",
    "        driver.close()\n",
    "        driver.switch_to.window(driver.window_handles[0])\n",
    "        \n",
    "        \n",
    "    except StaleElementReferenceException:\n",
    "        print(\"Stale Element Reference Exception. Retrying.\")\n",
    "        continue\n",
    "\n",
    "    \n",
    "\n",
    "\n",
    "    \n",
    "\n",
    "\n",
    "#WebDriver'ı kapat\n",
    "#driver.quit()\n",
    "\n"
   ]
  },
  {
   "cell_type": "code",
   "execution_count": 34,
   "id": "0c57ea6c-195d-44a0-8c3c-8ba15b4f9eeb",
   "metadata": {
    "tags": []
   },
   "outputs": [
    {
     "ename": "ValueError",
     "evalue": "invalid literal for int() with base 10: 'ARA'",
     "output_type": "error",
     "traceback": [
      "\u001b[0;31m---------------------------------------------------------------------------\u001b[0m",
      "\u001b[0;31mValueError\u001b[0m                                Traceback (most recent call last)",
      "Cell \u001b[0;32mIn[34], line 51\u001b[0m\n\u001b[1;32m     48\u001b[0m target_date \u001b[38;5;241m=\u001b[39m datetime\u001b[38;5;241m.\u001b[39mdate(\u001b[38;5;241m2020\u001b[39m, \u001b[38;5;241m9\u001b[39m, \u001b[38;5;241m15\u001b[39m)  \u001b[38;5;66;03m# Örneğin, 2020-09-15\u001b[39;00m\n\u001b[1;32m     50\u001b[0m \u001b[38;5;66;03m# Takvimdeki hedef tarihi seç\u001b[39;00m\n\u001b[0;32m---> 51\u001b[0m select_date(driver, target_date)\n\u001b[1;32m     53\u001b[0m \u001b[38;5;66;03m# Selenium webdriver'ı kapat\u001b[39;00m\n\u001b[1;32m     54\u001b[0m driver\u001b[38;5;241m.\u001b[39mquit()\n",
      "Cell \u001b[0;32mIn[34], line 27\u001b[0m, in \u001b[0;36mselect_date\u001b[0;34m(driver, target_date)\u001b[0m\n\u001b[1;32m     24\u001b[0m \u001b[38;5;66;03m# Hedef tarihe kadar döngü yap\u001b[39;00m\n\u001b[1;32m     25\u001b[0m \u001b[38;5;28;01mwhile\u001b[39;00m \u001b[38;5;28;01mTrue\u001b[39;00m:\n\u001b[1;32m     26\u001b[0m     \u001b[38;5;66;03m# Takvimdeki yıl ve ayı al\u001b[39;00m\n\u001b[0;32m---> 27\u001b[0m     current_year \u001b[38;5;241m=\u001b[39m \u001b[38;5;28mint\u001b[39m(driver\u001b[38;5;241m.\u001b[39mfind_element(By\u001b[38;5;241m.\u001b[39mCLASS_NAME, \u001b[38;5;124m'\u001b[39m\u001b[38;5;124mwidget-datepicker__value\u001b[39m\u001b[38;5;124m'\u001b[39m)\u001b[38;5;241m.\u001b[39mtext)\n\u001b[1;32m     28\u001b[0m     current_month \u001b[38;5;241m=\u001b[39m driver\u001b[38;5;241m.\u001b[39mfind_element(By\u001b[38;5;241m.\u001b[39mXPATH, \u001b[38;5;124m\"\u001b[39m\u001b[38;5;124m//div[@class=\u001b[39m\u001b[38;5;124m'\u001b[39m\u001b[38;5;124mwidget-datepicker__selector widget-datepicker__selector--month\u001b[39m\u001b[38;5;124m'\u001b[39m\u001b[38;5;124m]/div[@class=\u001b[39m\u001b[38;5;124m'\u001b[39m\u001b[38;5;124mwidget-datepicker__value\u001b[39m\u001b[38;5;124m'\u001b[39m\u001b[38;5;124m]\u001b[39m\u001b[38;5;124m\"\u001b[39m)\u001b[38;5;241m.\u001b[39mtext\n\u001b[1;32m     30\u001b[0m     \u001b[38;5;66;03m# Hedef yıl ve ayı elde etmek için bekleniyor\u001b[39;00m\n",
      "\u001b[0;31mValueError\u001b[0m: invalid literal for int() with base 10: 'ARA'"
     ]
    }
   ],
   "source": [
    "\n",
    "from selenium import webdriver\n",
    "from selenium.webdriver.common.by import By\n",
    "from selenium.webdriver.support.ui import WebDriverWait\n",
    "from selenium.webdriver.support import expected_conditions as EC\n",
    "\n",
    "\n",
    "def select_date(driver, target_date):\n",
    "    # Takvimdeki önceki yıl tuşunu bul\n",
    "        \n",
    "    wait = WebDriverWait(driver, 10)\n",
    "    cookies=wait.until(EC.element_to_be_clickable((By.XPATH, '//*[@id=\"didomi-notice-agree-button\"]')))\n",
    "    cookies.click()\n",
    "    clock=wait.until(EC.element_to_be_clickable((By.XPATH, \"//span[.='Saat']\")))\n",
    "    clock.click()\n",
    "\n",
    "\n",
    "    dateIcon = wait.until(EC.element_to_be_clickable((By.CSS_SELECTOR, '.widget-dateslider__datepicker-toggle')))\n",
    "\n",
    "    # Click on the element\n",
    "    dateIcon.click()    \n",
    "    \n",
    "    previous_year_button = driver.find_element(By.XPATH, \"//div[@class='widget-datepicker__nav widget-datepicker__nav--previous']\")\n",
    "\n",
    "    # Hedef tarihe kadar döngü yap\n",
    "    while True:\n",
    "        # Takvimdeki yıl ve ayı al\n",
    "        current_year = int(driver.find_element(By.CLASS_NAME, 'widget-datepicker__value').text)\n",
    "        current_month = driver.find_element(By.XPATH, \"//div[@class='widget-datepicker__selector widget-datepicker__selector--month']/div[@class='widget-datepicker__value']\").text\n",
    "\n",
    "        # Hedef yıl ve ayı elde etmek için bekleniyor\n",
    "        if current_year == target_date.year and current_month == target_date.strftime('%b'):\n",
    "            break\n",
    "\n",
    "        # Önceki yıl tuşuna tıkla\n",
    "        previous_year_button.click()\n",
    "\n",
    "    # Hedef günü seç\n",
    "    day_element = driver.find_element(By.XPATH, f\"//td[@class='widget-datepicker__calendar-body-cell' and text()='{target_date.day}']\")\n",
    "    day_element.click()\n",
    "\n",
    "# Selenium webdriver'ı başlat\n",
    "driver = webdriver.Chrome()\n",
    "\n",
    "# Web sayfasını aç\n",
    "driver.get('https://www.mackolik.com/futbol/canli-sonuclar')  # Sayfanızın URL'sini buraya ekleyin\n",
    "\n",
    "# Hedef tarih\n",
    "target_date = datetime.date(2020, 9, 15)  # Örneğin, 2020-09-15\n",
    "\n",
    "# Takvimdeki hedef tarihi seç\n",
    "select_date(driver, target_date)\n",
    "\n",
    "# Selenium webdriver'ı kapat\n",
    "driver.quit()\n",
    "\n",
    "\n",
    "\n",
    "\n",
    "\n",
    "\n",
    "\n",
    "\n",
    "\n",
    "\n",
    "\n",
    "\n",
    "\n",
    "\n",
    "\n"
   ]
  },
  {
   "cell_type": "code",
   "execution_count": 60,
   "id": "0799e2c4-338d-44c5-a462-b018ee3b718b",
   "metadata": {
    "tags": []
   },
   "outputs": [],
   "source": [
    "openPage = True"
   ]
  },
  {
   "cell_type": "code",
   "execution_count": 10,
   "id": "d0e954c8-3bec-4adb-94b7-a65e90401c8d",
   "metadata": {
    "tags": []
   },
   "outputs": [
    {
     "ename": "NoSuchElementException",
     "evalue": "Message: Unable to locate element: /html/body/div[5]/div/main/div[1]/div[1]/div[1]/div[1]/div[1]/button[2]; For documentation on this error, please visit: https://www.selenium.dev/documentation/webdriver/troubleshooting/errors#no-such-element-exception\nStacktrace:\nRemoteError@chrome://remote/content/shared/RemoteError.sys.mjs:8:8\nWebDriverError@chrome://remote/content/shared/webdriver/Errors.sys.mjs:189:5\nNoSuchElementError@chrome://remote/content/shared/webdriver/Errors.sys.mjs:507:5\ndom.find/</<@chrome://remote/content/shared/DOM.sys.mjs:132:16\n",
     "output_type": "error",
     "traceback": [
      "\u001b[0;31m---------------------------------------------------------------------------\u001b[0m",
      "\u001b[0;31mNoSuchElementException\u001b[0m                    Traceback (most recent call last)",
      "Cell \u001b[0;32mIn[10], line 25\u001b[0m\n\u001b[1;32m     21\u001b[0m macKolikUrl\u001b[38;5;241m=\u001b[39m\u001b[38;5;124m\"\u001b[39m\u001b[38;5;124mhttps://www.mackolik.com/futbol/canli-sonuclar\u001b[39m\u001b[38;5;124m\"\u001b[39m\n\u001b[1;32m     23\u001b[0m driver\u001b[38;5;241m.\u001b[39mget(macKolikUrl)\n\u001b[0;32m---> 25\u001b[0m cal \u001b[38;5;241m=\u001b[39m  driver\u001b[38;5;241m.\u001b[39mfind_element(By\u001b[38;5;241m.\u001b[39mXPATH, \u001b[38;5;124m\"\u001b[39m\u001b[38;5;124m/html/body/div[5]/div/main/div[1]/div[1]/div[1]/div[1]/div[1]/button[2]\u001b[39m\u001b[38;5;124m\"\u001b[39m)\n\u001b[1;32m     26\u001b[0m time\u001b[38;5;241m.\u001b[39msleep(\u001b[38;5;241m3\u001b[39m)\n",
      "File \u001b[0;32m~/anaconda3/lib/python3.11/site-packages/selenium/webdriver/remote/webdriver.py:742\u001b[0m, in \u001b[0;36mWebDriver.find_element\u001b[0;34m(self, by, value)\u001b[0m\n\u001b[1;32m    739\u001b[0m     by \u001b[38;5;241m=\u001b[39m By\u001b[38;5;241m.\u001b[39mCSS_SELECTOR\n\u001b[1;32m    740\u001b[0m     value \u001b[38;5;241m=\u001b[39m \u001b[38;5;124mf\u001b[39m\u001b[38;5;124m'\u001b[39m\u001b[38;5;124m[name=\u001b[39m\u001b[38;5;124m\"\u001b[39m\u001b[38;5;132;01m{\u001b[39;00mvalue\u001b[38;5;132;01m}\u001b[39;00m\u001b[38;5;124m\"\u001b[39m\u001b[38;5;124m]\u001b[39m\u001b[38;5;124m'\u001b[39m\n\u001b[0;32m--> 742\u001b[0m \u001b[38;5;28;01mreturn\u001b[39;00m \u001b[38;5;28mself\u001b[39m\u001b[38;5;241m.\u001b[39mexecute(Command\u001b[38;5;241m.\u001b[39mFIND_ELEMENT, {\u001b[38;5;124m\"\u001b[39m\u001b[38;5;124musing\u001b[39m\u001b[38;5;124m\"\u001b[39m: by, \u001b[38;5;124m\"\u001b[39m\u001b[38;5;124mvalue\u001b[39m\u001b[38;5;124m\"\u001b[39m: value})[\u001b[38;5;124m\"\u001b[39m\u001b[38;5;124mvalue\u001b[39m\u001b[38;5;124m\"\u001b[39m]\n",
      "File \u001b[0;32m~/anaconda3/lib/python3.11/site-packages/selenium/webdriver/remote/webdriver.py:348\u001b[0m, in \u001b[0;36mWebDriver.execute\u001b[0;34m(self, driver_command, params)\u001b[0m\n\u001b[1;32m    346\u001b[0m response \u001b[38;5;241m=\u001b[39m \u001b[38;5;28mself\u001b[39m\u001b[38;5;241m.\u001b[39mcommand_executor\u001b[38;5;241m.\u001b[39mexecute(driver_command, params)\n\u001b[1;32m    347\u001b[0m \u001b[38;5;28;01mif\u001b[39;00m response:\n\u001b[0;32m--> 348\u001b[0m     \u001b[38;5;28mself\u001b[39m\u001b[38;5;241m.\u001b[39merror_handler\u001b[38;5;241m.\u001b[39mcheck_response(response)\n\u001b[1;32m    349\u001b[0m     response[\u001b[38;5;124m\"\u001b[39m\u001b[38;5;124mvalue\u001b[39m\u001b[38;5;124m\"\u001b[39m] \u001b[38;5;241m=\u001b[39m \u001b[38;5;28mself\u001b[39m\u001b[38;5;241m.\u001b[39m_unwrap_value(response\u001b[38;5;241m.\u001b[39mget(\u001b[38;5;124m\"\u001b[39m\u001b[38;5;124mvalue\u001b[39m\u001b[38;5;124m\"\u001b[39m, \u001b[38;5;28;01mNone\u001b[39;00m))\n\u001b[1;32m    350\u001b[0m     \u001b[38;5;28;01mreturn\u001b[39;00m response\n",
      "File \u001b[0;32m~/anaconda3/lib/python3.11/site-packages/selenium/webdriver/remote/errorhandler.py:229\u001b[0m, in \u001b[0;36mErrorHandler.check_response\u001b[0;34m(self, response)\u001b[0m\n\u001b[1;32m    227\u001b[0m         alert_text \u001b[38;5;241m=\u001b[39m value[\u001b[38;5;124m\"\u001b[39m\u001b[38;5;124malert\u001b[39m\u001b[38;5;124m\"\u001b[39m]\u001b[38;5;241m.\u001b[39mget(\u001b[38;5;124m\"\u001b[39m\u001b[38;5;124mtext\u001b[39m\u001b[38;5;124m\"\u001b[39m)\n\u001b[1;32m    228\u001b[0m     \u001b[38;5;28;01mraise\u001b[39;00m exception_class(message, screen, stacktrace, alert_text)  \u001b[38;5;66;03m# type: ignore[call-arg]  # mypy is not smart enough here\u001b[39;00m\n\u001b[0;32m--> 229\u001b[0m \u001b[38;5;28;01mraise\u001b[39;00m exception_class(message, screen, stacktrace)\n",
      "\u001b[0;31mNoSuchElementException\u001b[0m: Message: Unable to locate element: /html/body/div[5]/div/main/div[1]/div[1]/div[1]/div[1]/div[1]/button[2]; For documentation on this error, please visit: https://www.selenium.dev/documentation/webdriver/troubleshooting/errors#no-such-element-exception\nStacktrace:\nRemoteError@chrome://remote/content/shared/RemoteError.sys.mjs:8:8\nWebDriverError@chrome://remote/content/shared/webdriver/Errors.sys.mjs:189:5\nNoSuchElementError@chrome://remote/content/shared/webdriver/Errors.sys.mjs:507:5\ndom.find/</<@chrome://remote/content/shared/DOM.sys.mjs:132:16\n"
     ]
    }
   ],
   "source": [
    "from selenium import webdriver\n",
    "from selenium.webdriver.common.by import By\n",
    "from selenium.webdriver.firefox.service import Service as FirefoxService\n",
    "import time\n",
    "from selenium.webdriver.support.ui import WebDriverWait\n",
    "from selenium.webdriver.support import expected_conditions as EC\n",
    "from bs4 import BeautifulSoup\n",
    "\n",
    "\n",
    "# Geckodriver yolu\n",
    "geckodriver_path = \"./geckodriver\"\n",
    "\n",
    "# Firefox service nesnesini oluştur\n",
    "service = FirefoxService(executable_path=geckodriver_path)\n",
    "\n",
    "\n",
    "# Firefox tarayıcısını service ile başlat\n",
    "driver = webdriver.Firefox(service=service)\n",
    "# Hedef web sayfasına git\n",
    "\n",
    "macKolikUrl=\"https://www.mackolik.com/futbol/canli-sonuclar\"\n",
    "\n",
    "driver.get(macKolikUrl)\n",
    "\n",
    "cal =  driver.find_element(By.XPATH, \"/html/body/div[5]/div/main/div[1]/div[1]/div[1]/div[1]/div[1]/button[2]\")\n",
    "time.sleep(3)\n",
    "\n",
    "# /html/body/div[5]/div/main/div[1]/div[1]/div[1]/div[1]/div[1]/button[2]\n",
    "#time.sleep(5)"
   ]
  },
  {
   "cell_type": "code",
   "execution_count": 18,
   "id": "b58a6d52-ee24-4904-9c04-7f3652d74479",
   "metadata": {
    "tags": []
   },
   "outputs": [
    {
     "data": {
      "text/plain": [
       "'BB Erzurumspor 0-3'"
      ]
     },
     "execution_count": 18,
     "metadata": {},
     "output_type": "execute_result"
    }
   ],
   "source": [
    "lines[2]"
   ]
  },
  {
   "cell_type": "code",
   "execution_count": 22,
   "id": "0a83d24e-b6ff-41f1-ab15-7985d4fbbb16",
   "metadata": {
    "tags": []
   },
   "outputs": [
    {
     "data": {
      "text/plain": [
       "['MAÇ SONUCU 01795 MBS 2',\n",
       " '1',\n",
       " '1.78',\n",
       " 'X',\n",
       " '3.07',\n",
       " '2',\n",
       " '3.18',\n",
       " 'ÇIFTE ŞANS 07575 MBS 2',\n",
       " '1-X',\n",
       " '1.13',\n",
       " '1-2',\n",
       " '1.15',\n",
       " 'X-2',\n",
       " '1.51',\n",
       " '1,5 ALT/ÜST 07441 MBS 2',\n",
       " 'Alt',\n",
       " '2.87',\n",
       " 'Üst',\n",
       " '1.18',\n",
       " '2,5 ALT/ÜST 07464 MBS 2',\n",
       " 'Alt',\n",
       " '1.58',\n",
       " 'Üst',\n",
       " '1.80',\n",
       " '3,5 ALT/ÜST 07417 MBS 2',\n",
       " 'Alt',\n",
       " '1.15',\n",
       " 'Üst',\n",
       " '3.14',\n",
       " '1. YARI 2,5 ALT/ÜST 07465 MBS 2',\n",
       " 'Alt',\n",
       " '-',\n",
       " 'Üst',\n",
       " '6.62',\n",
       " '1. YARI 1,5 ALT/ÜST 07574 MBS 2',\n",
       " 'Alt',\n",
       " '1.22',\n",
       " 'Üst',\n",
       " '2.68',\n",
       " '1. YARI 0,5 ALT/ÜST 07569 MBS 2',\n",
       " 'Alt',\n",
       " '2.41',\n",
       " 'Üst',\n",
       " '1.29',\n",
       " '1. YARI ÇIFTE ŞANS 07503 MBS 2',\n",
       " '1-X',\n",
       " '1.08',\n",
       " '1-2',\n",
       " '1.44',\n",
       " 'X-2',\n",
       " '1.25',\n",
       " '1. YARI SONUCU 07498 MBS 2',\n",
       " '1',\n",
       " '2.42',\n",
       " 'X',\n",
       " '1.90',\n",
       " '2',\n",
       " '3.83',\n",
       " '2. YARI SONUCU 07510 MBS 2',\n",
       " '1',\n",
       " '2.12',\n",
       " 'X',\n",
       " '2.30',\n",
       " '2',\n",
       " '3.38',\n",
       " 'TEK/ÇIFT 07492 MBS 2',\n",
       " 'Tek',\n",
       " '1.71',\n",
       " 'Çift',\n",
       " '1.65',\n",
       " 'TOPLAM GOL ARALIĞI 07405 MBS 2',\n",
       " '0-1',\n",
       " '2.75',\n",
       " '2-3',\n",
       " '1.71',\n",
       " '4-5',\n",
       " '3.91',\n",
       " '6+',\n",
       " '18.35',\n",
       " 'KARŞILIKLI GOL 07482 MBS 2',\n",
       " 'Var',\n",
       " '1.66',\n",
       " 'Yok',\n",
       " '1.70',\n",
       " 'HND. MS (0:1) 07486 MBS 2',\n",
       " '1',\n",
       " '3.25',\n",
       " 'X',\n",
       " '3.28',\n",
       " '+1h',\n",
       " '1.55',\n",
       " 'MS VE 4,5 ALT/ÜST 20674 MBS 2',\n",
       " '1 ve Alt',\n",
       " '1.95',\n",
       " 'X ve Alt',\n",
       " '2.96',\n",
       " '2 ve Alt',\n",
       " '3.37',\n",
       " '1 ve Üst',\n",
       " '10.40',\n",
       " 'X ve Üst',\n",
       " '34.00',\n",
       " '2 ve Üst',\n",
       " '22.60',\n",
       " 'MS VE 1,5 ALT/ÜST 07462 MBS 2',\n",
       " '1 ve Alt',\n",
       " '6.22',\n",
       " 'X ve Alt',\n",
       " '8.91',\n",
       " '2 ve Alt',\n",
       " '9.33',\n",
       " '1 ve Üst',\n",
       " '2.16',\n",
       " 'X ve Üst',\n",
       " '4.16',\n",
       " '2 ve Üst',\n",
       " '4.57',\n",
       " 'MS VE 2,5 ALT/ÜST 07459 MBS 2',\n",
       " '1 ve Alt',\n",
       " '3.77',\n",
       " 'X ve Alt',\n",
       " '3.68',\n",
       " '2 ve Alt',\n",
       " '6.20',\n",
       " '1 ve Üst',\n",
       " '2.89',\n",
       " 'X ve Üst',\n",
       " '12.65',\n",
       " '2 ve Üst',\n",
       " '5.58',\n",
       " 'MS VE 3,5 ALT/ÜST 07458 MBS 2',\n",
       " '1 ve Alt',\n",
       " '2.30',\n",
       " 'X ve Alt',\n",
       " '3.67',\n",
       " '2 ve Alt',\n",
       " '3.82',\n",
       " '1 ve Üst',\n",
       " '5.68',\n",
       " 'X ve Üst',\n",
       " '12.60',\n",
       " '2 ve Üst',\n",
       " '12.80',\n",
       " '1. YARI DEPLASMAN 0,5 ALT/ÜST 07457 MBS 2',\n",
       " 'Alt',\n",
       " '1.33',\n",
       " 'Üst',\n",
       " '2.28',\n",
       " '12+',\n",
       " '-',\n",
       " 'EV SAHIBI 1,5 A/Ü 07488 MBS 2',\n",
       " 'Alt',\n",
       " '1.51',\n",
       " 'Üst',\n",
       " '1.90',\n",
       " 'EN ÇOK GOL OLACAK YARI 07586 MBS 2',\n",
       " '1. Yarı',\n",
       " '2.96',\n",
       " 'Eşit',\n",
       " '3.09',\n",
       " '2. Yarı',\n",
       " '1.85',\n",
       " 'DEPLASMAN 0,5 A/Ü 07456 MBS 2',\n",
       " 'Alt',\n",
       " '2.32',\n",
       " 'Üst',\n",
       " '1.32',\n",
       " '1. YARI KARŞILIKLI GOL 07420 MBS 2',\n",
       " 'Var',\n",
       " '4.48',\n",
       " 'Yok',\n",
       " '-',\n",
       " '1. YARI EV SAHIBI 0,5 ALT/ÜST 07406 MBS 2',\n",
       " 'Alt',\n",
       " '1.60',\n",
       " 'Üst',\n",
       " '1.76']"
      ]
     },
     "execution_count": 22,
     "metadata": {},
     "output_type": "execute_result"
    }
   ],
   "source": [
    "lines"
   ]
  },
  {
   "cell_type": "code",
   "execution_count": null,
   "id": "23e9dc76-ef6d-415d-aada-4c4c8e3b9492",
   "metadata": {},
   "outputs": [],
   "source": []
  },
  {
   "cell_type": "code",
   "execution_count": 8,
   "id": "b386e04c-e943-4545-9556-3d7f54566b9e",
   "metadata": {
    "tags": []
   },
   "outputs": [
    {
     "ename": "TimeoutException",
     "evalue": "Message: \n",
     "output_type": "error",
     "traceback": [
      "\u001b[0;31m---------------------------------------------------------------------------\u001b[0m",
      "\u001b[0;31mTimeoutException\u001b[0m                          Traceback (most recent call last)",
      "Cell \u001b[0;32mIn[8], line 22\u001b[0m\n\u001b[1;32m     20\u001b[0m desired_date \u001b[38;5;241m=\u001b[39m \u001b[38;5;124m'\u001b[39m\u001b[38;5;124m2023-12-06\u001b[39m\u001b[38;5;124m'\u001b[39m  \u001b[38;5;66;03m# İstediğiniz tarih\u001b[39;00m\n\u001b[1;32m     21\u001b[0m js_date_script \u001b[38;5;241m=\u001b[39m \u001b[38;5;124mf\u001b[39m\u001b[38;5;124m'\u001b[39m\u001b[38;5;124mdocument.querySelector(\u001b[39m\u001b[38;5;130;01m\\'\u001b[39;00m\u001b[38;5;124m[data-date=\u001b[39m\u001b[38;5;124m\"\u001b[39m\u001b[38;5;132;01m{\u001b[39;00mdesired_date\u001b[38;5;132;01m}\u001b[39;00m\u001b[38;5;124m\"\u001b[39m\u001b[38;5;124m]\u001b[39m\u001b[38;5;130;01m\\'\u001b[39;00m\u001b[38;5;124m).click();\u001b[39m\u001b[38;5;124m'\u001b[39m\n\u001b[0;32m---> 22\u001b[0m date_element \u001b[38;5;241m=\u001b[39m wait\u001b[38;5;241m.\u001b[39muntil(EC\u001b[38;5;241m.\u001b[39melement_to_be_clickable((By\u001b[38;5;241m.\u001b[39mCSS_SELECTOR, \u001b[38;5;124m'\u001b[39m\u001b[38;5;124m.widget-datepicker__body\u001b[39m\u001b[38;5;124m'\u001b[39m)))\n\u001b[1;32m     23\u001b[0m driver\u001b[38;5;241m.\u001b[39mexecute_script(js_date_script)\n\u001b[1;32m     25\u001b[0m \u001b[38;5;66;03m# WebDriver'ı kapat\u001b[39;00m\n",
      "File \u001b[0;32m~/anaconda3/lib/python3.11/site-packages/selenium/webdriver/support/wait.py:105\u001b[0m, in \u001b[0;36mWebDriverWait.until\u001b[0;34m(self, method, message)\u001b[0m\n\u001b[1;32m    103\u001b[0m     \u001b[38;5;28;01mif\u001b[39;00m time\u001b[38;5;241m.\u001b[39mmonotonic() \u001b[38;5;241m>\u001b[39m end_time:\n\u001b[1;32m    104\u001b[0m         \u001b[38;5;28;01mbreak\u001b[39;00m\n\u001b[0;32m--> 105\u001b[0m \u001b[38;5;28;01mraise\u001b[39;00m TimeoutException(message, screen, stacktrace)\n",
      "\u001b[0;31mTimeoutException\u001b[0m: Message: \n"
     ]
    }
   ],
   "source": [
    "from selenium import webdriver\n",
    "from selenium.webdriver.common.by import By\n",
    "from selenium.webdriver.support.ui import WebDriverWait\n",
    "from selenium.webdriver.support import expected_conditions as EC\n",
    "\n",
    "# WebDriver'ı başlat\n",
    "driver = webdriver.Chrome()\n",
    "\n",
    "# Web sayfasına gidin\n",
    "driver.get(\"https://www.mackolik.com/futbol/canli-sonuclar\")  # Sayfanın doğru URL'sini girin\n",
    "\n",
    "# Tarih seçimi kutusunu açmak için JavaScript kodunu kullanın\n",
    "js_script = 'document.querySelector(\".widget-datepicker__value\").click();'\n",
    "driver.execute_script(js_script)\n",
    "\n",
    "# Bekleyiciyi tanımlayın\n",
    "wait = WebDriverWait(driver, 10)\n",
    "\n",
    "# Belirli bir tarihi seçmek için JavaScript ile tarih seçim kutusunu kullanın\n",
    "desired_date = '2023-12-06'  # İstediğiniz tarih\n",
    "js_date_script = f'document.querySelector(\\'[data-date=\"{desired_date}\"]\\').click();'\n",
    "date_element = wait.until(EC.element_to_be_clickable((By.CSS_SELECTOR, '.widget-datepicker__body')))\n",
    "driver.execute_script(js_date_script)\n",
    "\n",
    "# WebDriver'ı kapat\n",
    "driver.quit()\n"
   ]
  },
  {
   "cell_type": "code",
   "execution_count": 11,
   "id": "1ec935b2-dc6a-4567-992c-bf02fff0b0ce",
   "metadata": {
    "tags": []
   },
   "outputs": [
    {
     "ename": "NameError",
     "evalue": "name 'lines' is not defined",
     "output_type": "error",
     "traceback": [
      "\u001b[0;31m---------------------------------------------------------------------------\u001b[0m",
      "\u001b[0;31mNameError\u001b[0m                                 Traceback (most recent call last)",
      "Cell \u001b[0;32mIn[11], line 1\u001b[0m\n\u001b[0;32m----> 1\u001b[0m lines\n",
      "\u001b[0;31mNameError\u001b[0m: name 'lines' is not defined"
     ]
    }
   ],
   "source": [
    "lines"
   ]
  },
  {
   "cell_type": "code",
   "execution_count": 65,
   "id": "ae272485-d637-43a3-b060-47f6d3270464",
   "metadata": {
    "tags": []
   },
   "outputs": [],
   "source": [
    "import pandas as pd"
   ]
  },
  {
   "cell_type": "code",
   "execution_count": 51,
   "id": "28831c99-a25e-4c5c-9d83-95e22b3f0f77",
   "metadata": {
    "tags": []
   },
   "outputs": [],
   "source": [
    "# df = pd.DataFrame(columns=['Home','Away','Date'])"
   ]
  },
  {
   "cell_type": "code",
   "execution_count": 47,
   "id": "394ee89c-602c-42d0-a853-3e3dc97ed35d",
   "metadata": {
    "tags": []
   },
   "outputs": [],
   "source": [
    "dic ={'Home':lines[0] ,'Away':lines[1],'Date':lines[6].split('|')[0]}"
   ]
  },
  {
   "cell_type": "code",
   "execution_count": 56,
   "id": "40f2dd32-6755-4db9-a72f-1f8a0532cecb",
   "metadata": {
    "tags": []
   },
   "outputs": [],
   "source": [
    "df = pd.DataFrame([dic])"
   ]
  },
  {
   "cell_type": "code",
   "execution_count": null,
   "id": "86f54382-74ea-4a5e-b0d9-c7beb3d5dc58",
   "metadata": {},
   "outputs": [],
   "source": [
    "df.append()"
   ]
  },
  {
   "cell_type": "code",
   "execution_count": 57,
   "id": "21357537-20eb-4824-9e5d-c536429d9c89",
   "metadata": {
    "tags": []
   },
   "outputs": [
    {
     "data": {
      "text/html": [
       "<div>\n",
       "<style scoped>\n",
       "    .dataframe tbody tr th:only-of-type {\n",
       "        vertical-align: middle;\n",
       "    }\n",
       "\n",
       "    .dataframe tbody tr th {\n",
       "        vertical-align: top;\n",
       "    }\n",
       "\n",
       "    .dataframe thead th {\n",
       "        text-align: right;\n",
       "    }\n",
       "</style>\n",
       "<table border=\"1\" class=\"dataframe\">\n",
       "  <thead>\n",
       "    <tr style=\"text-align: right;\">\n",
       "      <th></th>\n",
       "      <th>Home</th>\n",
       "      <th>Away</th>\n",
       "      <th>Date</th>\n",
       "    </tr>\n",
       "  </thead>\n",
       "  <tbody>\n",
       "    <tr>\n",
       "      <th>0</th>\n",
       "      <td>BB Erzurumspor</td>\n",
       "      <td>24 Erzincanspor</td>\n",
       "      <td>06-12-23</td>\n",
       "    </tr>\n",
       "  </tbody>\n",
       "</table>\n",
       "</div>"
      ],
      "text/plain": [
       "             Home             Away       Date\n",
       "0  BB Erzurumspor  24 Erzincanspor  06-12-23 "
      ]
     },
     "execution_count": 57,
     "metadata": {},
     "output_type": "execute_result"
    }
   ],
   "source": [
    "df"
   ]
  },
  {
   "cell_type": "code",
   "execution_count": 75,
   "id": "5cf5f259-746c-465c-9737-511b727a0be9",
   "metadata": {
    "tags": []
   },
   "outputs": [],
   "source": []
  },
  {
   "cell_type": "code",
   "execution_count": 79,
   "id": "448851bc-20cb-4930-ab2a-424dcbe5212a",
   "metadata": {
    "tags": []
   },
   "outputs": [],
   "source": [
    "cs = lines.index('2,5 Alt/Üst'')\n",
    "MAC_SONUCU_1 = lines[ms_1+2]\n",
    "MAC_SONUCU_x = lines[ms_1+4]\n",
    "MAC_SONUCU_2 = lines[ms_1+6]"
   ]
  },
  {
   "cell_type": "code",
   "execution_count": 80,
   "id": "5691aaaf-f79e-4143-a40f-2355f4d3c71a",
   "metadata": {
    "tags": []
   },
   "outputs": [
    {
     "data": {
      "text/plain": [
       "'3.18'"
      ]
     },
     "execution_count": 80,
     "metadata": {},
     "output_type": "execute_result"
    }
   ],
   "source": [
    "MAC_SONUCU_2"
   ]
  },
  {
   "cell_type": "code",
   "execution_count": 74,
   "id": "3170bc18-a956-49c7-8e1e-b3aa3784597b",
   "metadata": {
    "tags": []
   },
   "outputs": [
    {
     "data": {
      "text/plain": [
       "['MBS 2',\n",
       " 'Maç Sonucu',\n",
       " '1',\n",
       " '1.78',\n",
       " 'X',\n",
       " '3.07',\n",
       " '2',\n",
       " '3.18',\n",
       " 'Çifte Şans',\n",
       " '1-X',\n",
       " '1.13',\n",
       " '1-2',\n",
       " '1.15',\n",
       " 'X-2',\n",
       " '1.51',\n",
       " '2,5 Alt/Üst',\n",
       " 'Alt',\n",
       " '1.58',\n",
       " 'Üst',\n",
       " '1.80',\n",
       " 'Tüm oranlar']"
      ]
     },
     "execution_count": 74,
     "metadata": {},
     "output_type": "execute_result"
    }
   ],
   "source": [
    "lines"
   ]
  },
  {
   "cell_type": "code",
   "execution_count": 90,
   "id": "bf356d59-b41a-457d-a6c6-bb9011a03e64",
   "metadata": {
    "tags": []
   },
   "outputs": [],
   "source": [
    "import numpy as np\n",
    "# AU = lines.index('dasdsa')"
   ]
  },
  {
   "cell_type": "code",
   "execution_count": 96,
   "id": "fc443412-cad1-45d3-b6f6-c604fb91c1ea",
   "metadata": {
    "tags": []
   },
   "outputs": [],
   "source": [
    "if 'dasdsa' in lines:\n",
    "    AU = lines.index('dasdsa')\n",
    "    AU = 1.5\n",
    "else:\n",
    "    AU = np.nan\n",
    "    "
   ]
  },
  {
   "cell_type": "code",
   "execution_count": 97,
   "id": "7f625a23-945a-4fb7-a285-230af10f25b4",
   "metadata": {
    "tags": []
   },
   "outputs": [
    {
     "data": {
      "text/plain": [
       "nan"
      ]
     },
     "execution_count": 97,
     "metadata": {},
     "output_type": "execute_result"
    }
   ],
   "source": [
    "AU"
   ]
  },
  {
   "cell_type": "code",
   "execution_count": 98,
   "id": "7d96fed4-add8-4a35-a25b-c836b99ac145",
   "metadata": {
    "tags": []
   },
   "outputs": [
    {
     "data": {
      "text/plain": [
       "['MBS 2',\n",
       " 'Maç Sonucu',\n",
       " '1',\n",
       " '1.78',\n",
       " 'X',\n",
       " '3.07',\n",
       " '2',\n",
       " '3.18',\n",
       " 'Çifte Şans',\n",
       " '1-X',\n",
       " '1.13',\n",
       " '1-2',\n",
       " '1.15',\n",
       " 'X-2',\n",
       " '1.51',\n",
       " '2,5 Alt/Üst',\n",
       " 'Alt',\n",
       " '1.58',\n",
       " 'Üst',\n",
       " '1.80',\n",
       " 'Tüm oranlar']"
      ]
     },
     "execution_count": 98,
     "metadata": {},
     "output_type": "execute_result"
    }
   ],
   "source": [
    "lines"
   ]
  },
  {
   "cell_type": "code",
   "execution_count": null,
   "id": "885b971a-9ff0-4a83-b53e-d5ebcf231d53",
   "metadata": {},
   "outputs": [],
   "source": [
    "# Hedef elementi bulma (örneğin, XPath ile)\n",
    "target_element = driver.find_element(By.XPATH, \"//*[@id='widget-livescore-match-row-a9emg5jcf32clqxxawi3hcowk']/div[2]\")  # Hedef elementin XPath'ini belirtin\n",
    "\n",
    "# Elementin içindeki metinleri alıp yazdırma\n",
    "all_text = target_element.text\n",
    "lines = all_text.split('\\n')\n",
    "\n",
    "for line in lines:\n",
    "    print('------', line)\n",
    "\n",
    "\n",
    "# /html/body/div[4]\n"
   ]
  }
 ],
 "metadata": {
  "kernelspec": {
   "display_name": "Python 3 (ipykernel)",
   "language": "python",
   "name": "python3"
  },
  "language_info": {
   "codemirror_mode": {
    "name": "ipython",
    "version": 3
   },
   "file_extension": ".py",
   "mimetype": "text/x-python",
   "name": "python",
   "nbconvert_exporter": "python",
   "pygments_lexer": "ipython3",
   "version": "3.11.5"
  }
 },
 "nbformat": 4,
 "nbformat_minor": 5
}
