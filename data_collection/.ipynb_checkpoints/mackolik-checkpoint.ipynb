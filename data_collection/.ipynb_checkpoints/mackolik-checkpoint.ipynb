{
 "cells": [
  {
   "cell_type": "code",
   "execution_count": 1,
   "id": "609c728e",
   "metadata": {},
   "outputs": [],
   "source": [
    "from selenium import webdriver"
   ]
  },
  {
   "cell_type": "code",
   "execution_count": 1,
   "id": "6ffae6de",
   "metadata": {},
   "outputs": [
    {
     "ename": "NameError",
     "evalue": "name 'webdriver' is not defined",
     "output_type": "error",
     "traceback": [
      "\u001b[0;31m---------------------------------------------------------------------------\u001b[0m",
      "\u001b[0;31mNameError\u001b[0m                                 Traceback (most recent call last)",
      "Cell \u001b[0;32mIn[1], line 5\u001b[0m\n\u001b[1;32m      2\u001b[0m driver_path \u001b[38;5;241m=\u001b[39m \u001b[38;5;124m'\u001b[39m\u001b[38;5;124m./geckodriver\u001b[39m\u001b[38;5;124m'\u001b[39m\n\u001b[1;32m      4\u001b[0m \u001b[38;5;66;03m# Chrome tarayıcısını başlat\u001b[39;00m\n\u001b[0;32m----> 5\u001b[0m driver \u001b[38;5;241m=\u001b[39m webdriver\u001b[38;5;241m.\u001b[39mFirefox(driver_path)\n\u001b[1;32m      6\u001b[0m \u001b[38;5;66;03m# Hedef web sayfasına git\u001b[39;00m\n\u001b[1;32m      7\u001b[0m driver\u001b[38;5;241m.\u001b[39mget(\u001b[38;5;124m\"\u001b[39m\u001b[38;5;124mhttps://example.com\u001b[39m\u001b[38;5;124m\"\u001b[39m)\n",
      "\u001b[0;31mNameError\u001b[0m: name 'webdriver' is not defined"
     ]
    }
   ],
   "source": [
    "# WebDriver yolu\n",
    "driver_path = './geckodriver'\n",
    "\n",
    "# Chrome tarayıcısını başlat\n",
    "driver = webdriver.Firefox(driver_path)\n",
    "# Hedef web sayfasına git\n",
    "driver.get(\"https://example.com\")"
   ]
  },
  {
   "cell_type": "code",
   "execution_count": 4,
   "id": "3ddf8926",
   "metadata": {},
   "outputs": [
    {
     "ename": "NameError",
     "evalue": "name 'driver' is not defined",
     "output_type": "error",
     "traceback": [
      "\u001b[0;31m---------------------------------------------------------------------------\u001b[0m",
      "\u001b[0;31mNameError\u001b[0m                                 Traceback (most recent call last)",
      "Cell \u001b[0;32mIn[4], line 2\u001b[0m\n\u001b[1;32m      1\u001b[0m \u001b[38;5;66;03m# Hedef web sayfasına git\u001b[39;00m\n\u001b[0;32m----> 2\u001b[0m driver\u001b[38;5;241m.\u001b[39mget(\u001b[38;5;124m\"\u001b[39m\u001b[38;5;124mhttps://www.mackolik.com/futbol/canli-sonuclar\u001b[39m\u001b[38;5;124m\"\u001b[39m)\n\u001b[1;32m      4\u001b[0m \u001b[38;5;66;03m# Belirli bir sınıfa sahip öğeleri bul\u001b[39;00m\n\u001b[1;32m      5\u001b[0m elements \u001b[38;5;241m=\u001b[39m driver\u001b[38;5;241m.\u001b[39mfind_elements_by_class_name(\u001b[38;5;124m\"\u001b[39m\u001b[38;5;124msample-class\u001b[39m\u001b[38;5;124m\"\u001b[39m)\n",
      "\u001b[0;31mNameError\u001b[0m: name 'driver' is not defined"
     ]
    }
   ],
   "source": [
    " # Hedef web sayfasına git\n",
    "driver.get(\"https://www.mackolik.com/futbol/canli-sonuclar\")\n",
    "\n",
    "# Belirli bir sınıfa sahip öğeleri bul\n",
    "elements = driver.find_elements_by_class_name(\"sample-class\")\n",
    "\n",
    "# Öğelerin metinlerini yazdır\n",
    "for element in elements:\n",
    "    print(element.text)\n",
    "\n",
    "# Tarayıcıyı kapat\n",
    "driver.quit()\n"
   ]
  },
  {
   "cell_type": "code",
   "execution_count": 7,
   "id": "f4aba220-377a-4ff7-9ec0-aa6c11ef363d",
   "metadata": {
    "tags": []
   },
   "outputs": [
    {
     "name": "stdout",
     "output_type": "stream",
     "text": [
      "Requirement already satisfied: jupyter in /Users/yakupdemir/anaconda3/lib/python3.11/site-packages (1.0.0)\n",
      "Requirement already satisfied: notebook in /Users/yakupdemir/anaconda3/lib/python3.11/site-packages (from jupyter) (6.5.4)\n",
      "Requirement already satisfied: qtconsole in /Users/yakupdemir/anaconda3/lib/python3.11/site-packages (from jupyter) (5.4.2)\n",
      "Requirement already satisfied: jupyter-console in /Users/yakupdemir/anaconda3/lib/python3.11/site-packages (from jupyter) (6.6.3)\n",
      "Requirement already satisfied: nbconvert in /Users/yakupdemir/anaconda3/lib/python3.11/site-packages (from jupyter) (6.5.4)\n",
      "Requirement already satisfied: ipykernel in /Users/yakupdemir/anaconda3/lib/python3.11/site-packages (from jupyter) (6.25.0)\n",
      "Requirement already satisfied: ipywidgets in /Users/yakupdemir/anaconda3/lib/python3.11/site-packages (from jupyter) (8.0.4)\n",
      "Requirement already satisfied: appnope in /Users/yakupdemir/anaconda3/lib/python3.11/site-packages (from ipykernel->jupyter) (0.1.2)\n",
      "Requirement already satisfied: comm>=0.1.1 in /Users/yakupdemir/anaconda3/lib/python3.11/site-packages (from ipykernel->jupyter) (0.1.2)\n",
      "Requirement already satisfied: debugpy>=1.6.5 in /Users/yakupdemir/anaconda3/lib/python3.11/site-packages (from ipykernel->jupyter) (1.6.7)\n",
      "Requirement already satisfied: ipython>=7.23.1 in /Users/yakupdemir/anaconda3/lib/python3.11/site-packages (from ipykernel->jupyter) (8.15.0)\n",
      "Requirement already satisfied: jupyter-client>=6.1.12 in /Users/yakupdemir/anaconda3/lib/python3.11/site-packages (from ipykernel->jupyter) (7.4.9)\n",
      "Requirement already satisfied: jupyter-core!=5.0.*,>=4.12 in /Users/yakupdemir/anaconda3/lib/python3.11/site-packages (from ipykernel->jupyter) (5.3.0)\n",
      "Requirement already satisfied: matplotlib-inline>=0.1 in /Users/yakupdemir/anaconda3/lib/python3.11/site-packages (from ipykernel->jupyter) (0.1.6)\n",
      "Requirement already satisfied: nest-asyncio in /Users/yakupdemir/anaconda3/lib/python3.11/site-packages (from ipykernel->jupyter) (1.5.6)\n",
      "Requirement already satisfied: packaging in /Users/yakupdemir/anaconda3/lib/python3.11/site-packages (from ipykernel->jupyter) (23.1)\n",
      "Requirement already satisfied: psutil in /Users/yakupdemir/anaconda3/lib/python3.11/site-packages (from ipykernel->jupyter) (5.9.0)\n",
      "Requirement already satisfied: pyzmq>=20 in /Users/yakupdemir/anaconda3/lib/python3.11/site-packages (from ipykernel->jupyter) (23.2.0)\n",
      "Requirement already satisfied: tornado>=6.1 in /Users/yakupdemir/anaconda3/lib/python3.11/site-packages (from ipykernel->jupyter) (6.3.2)\n",
      "Requirement already satisfied: traitlets>=5.4.0 in /Users/yakupdemir/anaconda3/lib/python3.11/site-packages (from ipykernel->jupyter) (5.7.1)\n",
      "Requirement already satisfied: widgetsnbextension~=4.0 in /Users/yakupdemir/anaconda3/lib/python3.11/site-packages (from ipywidgets->jupyter) (4.0.5)\n",
      "Requirement already satisfied: jupyterlab-widgets~=3.0 in /Users/yakupdemir/anaconda3/lib/python3.11/site-packages (from ipywidgets->jupyter) (3.0.5)\n",
      "Requirement already satisfied: prompt-toolkit>=3.0.30 in /Users/yakupdemir/anaconda3/lib/python3.11/site-packages (from jupyter-console->jupyter) (3.0.41)\n",
      "Requirement already satisfied: pygments in /Users/yakupdemir/anaconda3/lib/python3.11/site-packages (from jupyter-console->jupyter) (2.15.1)\n",
      "Requirement already satisfied: lxml in /Users/yakupdemir/anaconda3/lib/python3.11/site-packages (from nbconvert->jupyter) (4.9.3)\n",
      "Requirement already satisfied: beautifulsoup4 in /Users/yakupdemir/anaconda3/lib/python3.11/site-packages (from nbconvert->jupyter) (4.12.2)\n",
      "Requirement already satisfied: bleach in /Users/yakupdemir/anaconda3/lib/python3.11/site-packages (from nbconvert->jupyter) (4.1.0)\n",
      "Requirement already satisfied: defusedxml in /Users/yakupdemir/anaconda3/lib/python3.11/site-packages (from nbconvert->jupyter) (0.7.1)\n",
      "Requirement already satisfied: entrypoints>=0.2.2 in /Users/yakupdemir/anaconda3/lib/python3.11/site-packages (from nbconvert->jupyter) (0.4)\n",
      "Requirement already satisfied: jinja2>=3.0 in /Users/yakupdemir/anaconda3/lib/python3.11/site-packages (from nbconvert->jupyter) (3.1.2)\n",
      "Requirement already satisfied: jupyterlab-pygments in /Users/yakupdemir/anaconda3/lib/python3.11/site-packages (from nbconvert->jupyter) (0.1.2)\n",
      "Requirement already satisfied: MarkupSafe>=2.0 in /Users/yakupdemir/anaconda3/lib/python3.11/site-packages (from nbconvert->jupyter) (2.1.1)\n",
      "Requirement already satisfied: mistune<2,>=0.8.1 in /Users/yakupdemir/anaconda3/lib/python3.11/site-packages (from nbconvert->jupyter) (0.8.4)\n",
      "Requirement already satisfied: nbclient>=0.5.0 in /Users/yakupdemir/anaconda3/lib/python3.11/site-packages (from nbconvert->jupyter) (0.5.13)\n",
      "Requirement already satisfied: nbformat>=5.1 in /Users/yakupdemir/anaconda3/lib/python3.11/site-packages (from nbconvert->jupyter) (5.9.2)\n",
      "Requirement already satisfied: pandocfilters>=1.4.1 in /Users/yakupdemir/anaconda3/lib/python3.11/site-packages (from nbconvert->jupyter) (1.5.0)\n",
      "Requirement already satisfied: tinycss2 in /Users/yakupdemir/anaconda3/lib/python3.11/site-packages (from nbconvert->jupyter) (1.2.1)\n",
      "Requirement already satisfied: argon2-cffi in /Users/yakupdemir/anaconda3/lib/python3.11/site-packages (from notebook->jupyter) (21.3.0)\n",
      "Requirement already satisfied: ipython-genutils in /Users/yakupdemir/anaconda3/lib/python3.11/site-packages (from notebook->jupyter) (0.2.0)\n",
      "Requirement already satisfied: Send2Trash>=1.8.0 in /Users/yakupdemir/anaconda3/lib/python3.11/site-packages (from notebook->jupyter) (1.8.0)\n",
      "Requirement already satisfied: terminado>=0.8.3 in /Users/yakupdemir/anaconda3/lib/python3.11/site-packages (from notebook->jupyter) (0.17.1)\n",
      "Requirement already satisfied: prometheus-client in /Users/yakupdemir/anaconda3/lib/python3.11/site-packages (from notebook->jupyter) (0.14.1)\n",
      "Requirement already satisfied: nbclassic>=0.4.7 in /Users/yakupdemir/anaconda3/lib/python3.11/site-packages (from notebook->jupyter) (0.5.5)\n",
      "Requirement already satisfied: qtpy>=2.0.1 in /Users/yakupdemir/anaconda3/lib/python3.11/site-packages (from qtconsole->jupyter) (2.2.0)\n",
      "Requirement already satisfied: backcall in /Users/yakupdemir/anaconda3/lib/python3.11/site-packages (from ipython>=7.23.1->ipykernel->jupyter) (0.2.0)\n",
      "Requirement already satisfied: decorator in /Users/yakupdemir/anaconda3/lib/python3.11/site-packages (from ipython>=7.23.1->ipykernel->jupyter) (5.1.1)\n",
      "Requirement already satisfied: jedi>=0.16 in /Users/yakupdemir/anaconda3/lib/python3.11/site-packages (from ipython>=7.23.1->ipykernel->jupyter) (0.18.1)\n",
      "Requirement already satisfied: pickleshare in /Users/yakupdemir/anaconda3/lib/python3.11/site-packages (from ipython>=7.23.1->ipykernel->jupyter) (0.7.5)\n",
      "Requirement already satisfied: stack-data in /Users/yakupdemir/anaconda3/lib/python3.11/site-packages (from ipython>=7.23.1->ipykernel->jupyter) (0.2.0)\n",
      "Requirement already satisfied: pexpect>4.3 in /Users/yakupdemir/anaconda3/lib/python3.11/site-packages (from ipython>=7.23.1->ipykernel->jupyter) (4.8.0)\n",
      "Requirement already satisfied: python-dateutil>=2.8.2 in /Users/yakupdemir/anaconda3/lib/python3.11/site-packages (from jupyter-client>=6.1.12->ipykernel->jupyter) (2.8.2)\n",
      "Requirement already satisfied: platformdirs>=2.5 in /Users/yakupdemir/anaconda3/lib/python3.11/site-packages (from jupyter-core!=5.0.*,>=4.12->ipykernel->jupyter) (3.10.0)\n",
      "Requirement already satisfied: jupyter-server>=1.8 in /Users/yakupdemir/anaconda3/lib/python3.11/site-packages (from nbclassic>=0.4.7->notebook->jupyter) (1.23.4)\n",
      "Requirement already satisfied: notebook-shim>=0.1.0 in /Users/yakupdemir/anaconda3/lib/python3.11/site-packages (from nbclassic>=0.4.7->notebook->jupyter) (0.2.2)\n",
      "Requirement already satisfied: fastjsonschema in /Users/yakupdemir/anaconda3/lib/python3.11/site-packages (from nbformat>=5.1->nbconvert->jupyter) (2.16.2)\n",
      "Requirement already satisfied: jsonschema>=2.6 in /Users/yakupdemir/anaconda3/lib/python3.11/site-packages (from nbformat>=5.1->nbconvert->jupyter) (4.17.3)\n",
      "Requirement already satisfied: wcwidth in /Users/yakupdemir/anaconda3/lib/python3.11/site-packages (from prompt-toolkit>=3.0.30->jupyter-console->jupyter) (0.2.5)\n",
      "Requirement already satisfied: ptyprocess in /Users/yakupdemir/anaconda3/lib/python3.11/site-packages (from terminado>=0.8.3->notebook->jupyter) (0.7.0)\n",
      "Requirement already satisfied: argon2-cffi-bindings in /Users/yakupdemir/anaconda3/lib/python3.11/site-packages (from argon2-cffi->notebook->jupyter) (21.2.0)\n",
      "Requirement already satisfied: soupsieve>1.2 in /Users/yakupdemir/anaconda3/lib/python3.11/site-packages (from beautifulsoup4->nbconvert->jupyter) (2.4)\n",
      "Requirement already satisfied: six>=1.9.0 in /Users/yakupdemir/anaconda3/lib/python3.11/site-packages (from bleach->nbconvert->jupyter) (1.16.0)\n",
      "Requirement already satisfied: webencodings in /Users/yakupdemir/anaconda3/lib/python3.11/site-packages (from bleach->nbconvert->jupyter) (0.5.1)\n",
      "Requirement already satisfied: parso<0.9.0,>=0.8.0 in /Users/yakupdemir/anaconda3/lib/python3.11/site-packages (from jedi>=0.16->ipython>=7.23.1->ipykernel->jupyter) (0.8.3)\n",
      "Requirement already satisfied: attrs>=17.4.0 in /Users/yakupdemir/anaconda3/lib/python3.11/site-packages (from jsonschema>=2.6->nbformat>=5.1->nbconvert->jupyter) (22.1.0)\n",
      "Requirement already satisfied: pyrsistent!=0.17.0,!=0.17.1,!=0.17.2,>=0.14.0 in /Users/yakupdemir/anaconda3/lib/python3.11/site-packages (from jsonschema>=2.6->nbformat>=5.1->nbconvert->jupyter) (0.18.0)\n",
      "Requirement already satisfied: anyio<4,>=3.1.0 in /Users/yakupdemir/anaconda3/lib/python3.11/site-packages (from jupyter-server>=1.8->nbclassic>=0.4.7->notebook->jupyter) (3.5.0)\n",
      "Requirement already satisfied: websocket-client in /Users/yakupdemir/anaconda3/lib/python3.11/site-packages (from jupyter-server>=1.8->nbclassic>=0.4.7->notebook->jupyter) (0.58.0)\n",
      "Requirement already satisfied: cffi>=1.0.1 in /Users/yakupdemir/anaconda3/lib/python3.11/site-packages (from argon2-cffi-bindings->argon2-cffi->notebook->jupyter) (1.15.1)\n",
      "Requirement already satisfied: executing in /Users/yakupdemir/anaconda3/lib/python3.11/site-packages (from stack-data->ipython>=7.23.1->ipykernel->jupyter) (0.8.3)\n",
      "Requirement already satisfied: asttokens in /Users/yakupdemir/anaconda3/lib/python3.11/site-packages (from stack-data->ipython>=7.23.1->ipykernel->jupyter) (2.0.5)\n",
      "Requirement already satisfied: pure-eval in /Users/yakupdemir/anaconda3/lib/python3.11/site-packages (from stack-data->ipython>=7.23.1->ipykernel->jupyter) (0.2.2)\n",
      "Requirement already satisfied: idna>=2.8 in /Users/yakupdemir/anaconda3/lib/python3.11/site-packages (from anyio<4,>=3.1.0->jupyter-server>=1.8->nbclassic>=0.4.7->notebook->jupyter) (3.4)\n",
      "Requirement already satisfied: sniffio>=1.1 in /Users/yakupdemir/anaconda3/lib/python3.11/site-packages (from anyio<4,>=3.1.0->jupyter-server>=1.8->nbclassic>=0.4.7->notebook->jupyter) (1.2.0)\n",
      "Requirement already satisfied: pycparser in /Users/yakupdemir/anaconda3/lib/python3.11/site-packages (from cffi>=1.0.1->argon2-cffi-bindings->argon2-cffi->notebook->jupyter) (2.21)\n"
     ]
    }
   ],
   "source": [
    "!pip install --upgrade jupyter\n"
   ]
  },
  {
   "cell_type": "code",
   "execution_count": 2,
   "id": "bc0eee8d",
   "metadata": {
    "tags": []
   },
   "outputs": [
    {
     "ename": "NoSuchWindowException",
     "evalue": "Message: Browsing context has been discarded\nStacktrace:\nRemoteError@chrome://remote/content/shared/RemoteError.sys.mjs:8:8\nWebDriverError@chrome://remote/content/shared/webdriver/Errors.sys.mjs:189:5\nNoSuchWindowError@chrome://remote/content/shared/webdriver/Errors.sys.mjs:630:5\nassert.that/<@chrome://remote/content/shared/webdriver/Assert.sys.mjs:485:13\nassert.open@chrome://remote/content/shared/webdriver/Assert.sys.mjs:147:4\nGeckoDriver.prototype.findElement@chrome://remote/content/marionette/driver.sys.mjs:1499:15\ndespatch@chrome://remote/content/marionette/server.sys.mjs:318:40\nexecute@chrome://remote/content/marionette/server.sys.mjs:289:16\nonPacket/<@chrome://remote/content/marionette/server.sys.mjs:262:20\nonPacket@chrome://remote/content/marionette/server.sys.mjs:263:9\n_onJSONObjectReady/<@chrome://remote/content/marionette/transport.sys.mjs:494:20\n",
     "output_type": "error",
     "traceback": [
      "\u001b[0;31m---------------------------------------------------------------------------\u001b[0m",
      "\u001b[0;31mNoSuchWindowException\u001b[0m                     Traceback (most recent call last)",
      "Cell \u001b[0;32mIn[2], line 24\u001b[0m\n\u001b[1;32m     18\u001b[0m driver\u001b[38;5;241m.\u001b[39mget(\u001b[38;5;124m\"\u001b[39m\u001b[38;5;124mhttps://www.mackolik.com/futbol/canli-sonuclar\u001b[39m\u001b[38;5;124m\"\u001b[39m)\n\u001b[1;32m     19\u001b[0m \u001b[38;5;66;03m#time.sleep(5)\u001b[39;00m\n\u001b[1;32m     20\u001b[0m \n\u001b[1;32m     21\u001b[0m \n\u001b[1;32m     22\u001b[0m \n\u001b[1;32m     23\u001b[0m \u001b[38;5;66;03m# Hedef elementi bulma (örneğin, XPath ile)\u001b[39;00m\n\u001b[0;32m---> 24\u001b[0m target_element \u001b[38;5;241m=\u001b[39m driver\u001b[38;5;241m.\u001b[39mfind_element(By\u001b[38;5;241m.\u001b[39mXPATH, \u001b[38;5;124m\"\u001b[39m\u001b[38;5;124m//*[@id=\u001b[39m\u001b[38;5;124m'\u001b[39m\u001b[38;5;124mwidget-livescore-match-row-a9emg5jcf32clqxxawi3hcowk\u001b[39m\u001b[38;5;124m'\u001b[39m\u001b[38;5;124m]/div[2]\u001b[39m\u001b[38;5;124m\"\u001b[39m)  \u001b[38;5;66;03m# Hedef elementin XPath'ini belirtin\u001b[39;00m\n\u001b[1;32m     26\u001b[0m \u001b[38;5;66;03m# Elementin içindeki metinleri alıp yazdırma\u001b[39;00m\n\u001b[1;32m     27\u001b[0m all_text \u001b[38;5;241m=\u001b[39m target_element\u001b[38;5;241m.\u001b[39mtext\n",
      "File \u001b[0;32m~/anaconda3/lib/python3.11/site-packages/selenium/webdriver/remote/webdriver.py:742\u001b[0m, in \u001b[0;36mWebDriver.find_element\u001b[0;34m(self, by, value)\u001b[0m\n\u001b[1;32m    739\u001b[0m     by \u001b[38;5;241m=\u001b[39m By\u001b[38;5;241m.\u001b[39mCSS_SELECTOR\n\u001b[1;32m    740\u001b[0m     value \u001b[38;5;241m=\u001b[39m \u001b[38;5;124mf\u001b[39m\u001b[38;5;124m'\u001b[39m\u001b[38;5;124m[name=\u001b[39m\u001b[38;5;124m\"\u001b[39m\u001b[38;5;132;01m{\u001b[39;00mvalue\u001b[38;5;132;01m}\u001b[39;00m\u001b[38;5;124m\"\u001b[39m\u001b[38;5;124m]\u001b[39m\u001b[38;5;124m'\u001b[39m\n\u001b[0;32m--> 742\u001b[0m \u001b[38;5;28;01mreturn\u001b[39;00m \u001b[38;5;28mself\u001b[39m\u001b[38;5;241m.\u001b[39mexecute(Command\u001b[38;5;241m.\u001b[39mFIND_ELEMENT, {\u001b[38;5;124m\"\u001b[39m\u001b[38;5;124musing\u001b[39m\u001b[38;5;124m\"\u001b[39m: by, \u001b[38;5;124m\"\u001b[39m\u001b[38;5;124mvalue\u001b[39m\u001b[38;5;124m\"\u001b[39m: value})[\u001b[38;5;124m\"\u001b[39m\u001b[38;5;124mvalue\u001b[39m\u001b[38;5;124m\"\u001b[39m]\n",
      "File \u001b[0;32m~/anaconda3/lib/python3.11/site-packages/selenium/webdriver/remote/webdriver.py:348\u001b[0m, in \u001b[0;36mWebDriver.execute\u001b[0;34m(self, driver_command, params)\u001b[0m\n\u001b[1;32m    346\u001b[0m response \u001b[38;5;241m=\u001b[39m \u001b[38;5;28mself\u001b[39m\u001b[38;5;241m.\u001b[39mcommand_executor\u001b[38;5;241m.\u001b[39mexecute(driver_command, params)\n\u001b[1;32m    347\u001b[0m \u001b[38;5;28;01mif\u001b[39;00m response:\n\u001b[0;32m--> 348\u001b[0m     \u001b[38;5;28mself\u001b[39m\u001b[38;5;241m.\u001b[39merror_handler\u001b[38;5;241m.\u001b[39mcheck_response(response)\n\u001b[1;32m    349\u001b[0m     response[\u001b[38;5;124m\"\u001b[39m\u001b[38;5;124mvalue\u001b[39m\u001b[38;5;124m\"\u001b[39m] \u001b[38;5;241m=\u001b[39m \u001b[38;5;28mself\u001b[39m\u001b[38;5;241m.\u001b[39m_unwrap_value(response\u001b[38;5;241m.\u001b[39mget(\u001b[38;5;124m\"\u001b[39m\u001b[38;5;124mvalue\u001b[39m\u001b[38;5;124m\"\u001b[39m, \u001b[38;5;28;01mNone\u001b[39;00m))\n\u001b[1;32m    350\u001b[0m     \u001b[38;5;28;01mreturn\u001b[39;00m response\n",
      "File \u001b[0;32m~/anaconda3/lib/python3.11/site-packages/selenium/webdriver/remote/errorhandler.py:229\u001b[0m, in \u001b[0;36mErrorHandler.check_response\u001b[0;34m(self, response)\u001b[0m\n\u001b[1;32m    227\u001b[0m         alert_text \u001b[38;5;241m=\u001b[39m value[\u001b[38;5;124m\"\u001b[39m\u001b[38;5;124malert\u001b[39m\u001b[38;5;124m\"\u001b[39m]\u001b[38;5;241m.\u001b[39mget(\u001b[38;5;124m\"\u001b[39m\u001b[38;5;124mtext\u001b[39m\u001b[38;5;124m\"\u001b[39m)\n\u001b[1;32m    228\u001b[0m     \u001b[38;5;28;01mraise\u001b[39;00m exception_class(message, screen, stacktrace, alert_text)  \u001b[38;5;66;03m# type: ignore[call-arg]  # mypy is not smart enough here\u001b[39;00m\n\u001b[0;32m--> 229\u001b[0m \u001b[38;5;28;01mraise\u001b[39;00m exception_class(message, screen, stacktrace)\n",
      "\u001b[0;31mNoSuchWindowException\u001b[0m: Message: Browsing context has been discarded\nStacktrace:\nRemoteError@chrome://remote/content/shared/RemoteError.sys.mjs:8:8\nWebDriverError@chrome://remote/content/shared/webdriver/Errors.sys.mjs:189:5\nNoSuchWindowError@chrome://remote/content/shared/webdriver/Errors.sys.mjs:630:5\nassert.that/<@chrome://remote/content/shared/webdriver/Assert.sys.mjs:485:13\nassert.open@chrome://remote/content/shared/webdriver/Assert.sys.mjs:147:4\nGeckoDriver.prototype.findElement@chrome://remote/content/marionette/driver.sys.mjs:1499:15\ndespatch@chrome://remote/content/marionette/server.sys.mjs:318:40\nexecute@chrome://remote/content/marionette/server.sys.mjs:289:16\nonPacket/<@chrome://remote/content/marionette/server.sys.mjs:262:20\nonPacket@chrome://remote/content/marionette/server.sys.mjs:263:9\n_onJSONObjectReady/<@chrome://remote/content/marionette/transport.sys.mjs:494:20\n"
     ]
    }
   ],
   "source": [
    "from selenium import webdriver\n",
    "from selenium.webdriver.common.by import By\n",
    "from selenium.webdriver.firefox.service import Service as FirefoxService\n",
    "import time\n",
    "\n",
    "\n",
    "# Geckodriver yolu\n",
    "geckodriver_path = \"./geckodriver\"\n",
    "\n",
    "# Firefox service nesnesini oluştur\n",
    "service = FirefoxService(executable_path=geckodriver_path)\n",
    "\n",
    "\n",
    "# Firefox tarayıcısını service ile başlat\n",
    "driver = webdriver.Firefox(service=service)\n",
    "# Hedef web sayfasına git\n",
    "\n",
    "driver.get(\"https://www.mackolik.com/futbol/canli-sonuclar\")\n",
    "#time.sleep(5)\n",
    "\n",
    "\n",
    "\n",
    "# Hedef elementi bulma (örneğin, XPath ile)\n",
    "target_element = driver.find_element(By.XPATH, \"//*[@id='widget-livescore-match-row-a9emg5jcf32clqxxawi3hcowk']/div[2]\")  # Hedef elementin XPath'ini belirtin\n",
    "\n",
    "# Elementin içindeki metinleri alıp yazdırma\n",
    "all_text = target_element.text\n",
    "lines = all_text.split('\\n')\n",
    "\n",
    "for line in lines:\n",
    "    print('------', line)\n",
    "\n",
    "\n",
    "# /html/body/div[4]\n",
    "\n",
    "\n",
    "# Belirli bir class name'e sahip öğeyi bul\n",
    "# element = driver.find_element(By.XPATH, \"/html/body/div[1]/div/div/div/div/div[2]/div/button[2]/span\")\n",
    "# element.click()\n"
   ]
  },
  {
   "cell_type": "code",
   "execution_count": 60,
   "id": "0799e2c4-338d-44c5-a462-b018ee3b718b",
   "metadata": {
    "tags": []
   },
   "outputs": [],
   "source": [
    "openPage = True"
   ]
  },
  {
   "cell_type": "code",
   "execution_count": 15,
   "id": "d0e954c8-3bec-4adb-94b7-a65e90401c8d",
   "metadata": {
    "tags": []
   },
   "outputs": [
    {
     "data": {
      "text/plain": [
       "['11:00', 'UZT', 'BB Erzurumspor 0-3', '24 Erzincan', 'İY 0-0']"
      ]
     },
     "execution_count": 15,
     "metadata": {},
     "output_type": "execute_result"
    }
   ],
   "source": [
    "lines"
   ]
  },
  {
   "cell_type": "code",
   "execution_count": 18,
   "id": "b58a6d52-ee24-4904-9c04-7f3652d74479",
   "metadata": {
    "tags": []
   },
   "outputs": [
    {
     "data": {
      "text/plain": [
       "'BB Erzurumspor 0-3'"
      ]
     },
     "execution_count": 18,
     "metadata": {},
     "output_type": "execute_result"
    }
   ],
   "source": [
    "lines[2]"
   ]
  },
  {
   "cell_type": "code",
   "execution_count": 22,
   "id": "0a83d24e-b6ff-41f1-ab15-7985d4fbbb16",
   "metadata": {
    "tags": []
   },
   "outputs": [
    {
     "data": {
      "text/plain": [
       "['MAÇ SONUCU 01795 MBS 2',\n",
       " '1',\n",
       " '1.78',\n",
       " 'X',\n",
       " '3.07',\n",
       " '2',\n",
       " '3.18',\n",
       " 'ÇIFTE ŞANS 07575 MBS 2',\n",
       " '1-X',\n",
       " '1.13',\n",
       " '1-2',\n",
       " '1.15',\n",
       " 'X-2',\n",
       " '1.51',\n",
       " '1,5 ALT/ÜST 07441 MBS 2',\n",
       " 'Alt',\n",
       " '2.87',\n",
       " 'Üst',\n",
       " '1.18',\n",
       " '2,5 ALT/ÜST 07464 MBS 2',\n",
       " 'Alt',\n",
       " '1.58',\n",
       " 'Üst',\n",
       " '1.80',\n",
       " '3,5 ALT/ÜST 07417 MBS 2',\n",
       " 'Alt',\n",
       " '1.15',\n",
       " 'Üst',\n",
       " '3.14',\n",
       " '1. YARI 2,5 ALT/ÜST 07465 MBS 2',\n",
       " 'Alt',\n",
       " '-',\n",
       " 'Üst',\n",
       " '6.62',\n",
       " '1. YARI 1,5 ALT/ÜST 07574 MBS 2',\n",
       " 'Alt',\n",
       " '1.22',\n",
       " 'Üst',\n",
       " '2.68',\n",
       " '1. YARI 0,5 ALT/ÜST 07569 MBS 2',\n",
       " 'Alt',\n",
       " '2.41',\n",
       " 'Üst',\n",
       " '1.29',\n",
       " '1. YARI ÇIFTE ŞANS 07503 MBS 2',\n",
       " '1-X',\n",
       " '1.08',\n",
       " '1-2',\n",
       " '1.44',\n",
       " 'X-2',\n",
       " '1.25',\n",
       " '1. YARI SONUCU 07498 MBS 2',\n",
       " '1',\n",
       " '2.42',\n",
       " 'X',\n",
       " '1.90',\n",
       " '2',\n",
       " '3.83',\n",
       " '2. YARI SONUCU 07510 MBS 2',\n",
       " '1',\n",
       " '2.12',\n",
       " 'X',\n",
       " '2.30',\n",
       " '2',\n",
       " '3.38',\n",
       " 'TEK/ÇIFT 07492 MBS 2',\n",
       " 'Tek',\n",
       " '1.71',\n",
       " 'Çift',\n",
       " '1.65',\n",
       " 'TOPLAM GOL ARALIĞI 07405 MBS 2',\n",
       " '0-1',\n",
       " '2.75',\n",
       " '2-3',\n",
       " '1.71',\n",
       " '4-5',\n",
       " '3.91',\n",
       " '6+',\n",
       " '18.35',\n",
       " 'KARŞILIKLI GOL 07482 MBS 2',\n",
       " 'Var',\n",
       " '1.66',\n",
       " 'Yok',\n",
       " '1.70',\n",
       " 'HND. MS (0:1) 07486 MBS 2',\n",
       " '1',\n",
       " '3.25',\n",
       " 'X',\n",
       " '3.28',\n",
       " '+1h',\n",
       " '1.55',\n",
       " 'MS VE 4,5 ALT/ÜST 20674 MBS 2',\n",
       " '1 ve Alt',\n",
       " '1.95',\n",
       " 'X ve Alt',\n",
       " '2.96',\n",
       " '2 ve Alt',\n",
       " '3.37',\n",
       " '1 ve Üst',\n",
       " '10.40',\n",
       " 'X ve Üst',\n",
       " '34.00',\n",
       " '2 ve Üst',\n",
       " '22.60',\n",
       " 'MS VE 1,5 ALT/ÜST 07462 MBS 2',\n",
       " '1 ve Alt',\n",
       " '6.22',\n",
       " 'X ve Alt',\n",
       " '8.91',\n",
       " '2 ve Alt',\n",
       " '9.33',\n",
       " '1 ve Üst',\n",
       " '2.16',\n",
       " 'X ve Üst',\n",
       " '4.16',\n",
       " '2 ve Üst',\n",
       " '4.57',\n",
       " 'MS VE 2,5 ALT/ÜST 07459 MBS 2',\n",
       " '1 ve Alt',\n",
       " '3.77',\n",
       " 'X ve Alt',\n",
       " '3.68',\n",
       " '2 ve Alt',\n",
       " '6.20',\n",
       " '1 ve Üst',\n",
       " '2.89',\n",
       " 'X ve Üst',\n",
       " '12.65',\n",
       " '2 ve Üst',\n",
       " '5.58',\n",
       " 'MS VE 3,5 ALT/ÜST 07458 MBS 2',\n",
       " '1 ve Alt',\n",
       " '2.30',\n",
       " 'X ve Alt',\n",
       " '3.67',\n",
       " '2 ve Alt',\n",
       " '3.82',\n",
       " '1 ve Üst',\n",
       " '5.68',\n",
       " 'X ve Üst',\n",
       " '12.60',\n",
       " '2 ve Üst',\n",
       " '12.80',\n",
       " '1. YARI DEPLASMAN 0,5 ALT/ÜST 07457 MBS 2',\n",
       " 'Alt',\n",
       " '1.33',\n",
       " 'Üst',\n",
       " '2.28',\n",
       " '12+',\n",
       " '-',\n",
       " 'EV SAHIBI 1,5 A/Ü 07488 MBS 2',\n",
       " 'Alt',\n",
       " '1.51',\n",
       " 'Üst',\n",
       " '1.90',\n",
       " 'EN ÇOK GOL OLACAK YARI 07586 MBS 2',\n",
       " '1. Yarı',\n",
       " '2.96',\n",
       " 'Eşit',\n",
       " '3.09',\n",
       " '2. Yarı',\n",
       " '1.85',\n",
       " 'DEPLASMAN 0,5 A/Ü 07456 MBS 2',\n",
       " 'Alt',\n",
       " '2.32',\n",
       " 'Üst',\n",
       " '1.32',\n",
       " '1. YARI KARŞILIKLI GOL 07420 MBS 2',\n",
       " 'Var',\n",
       " '4.48',\n",
       " 'Yok',\n",
       " '-',\n",
       " '1. YARI EV SAHIBI 0,5 ALT/ÜST 07406 MBS 2',\n",
       " 'Alt',\n",
       " '1.60',\n",
       " 'Üst',\n",
       " '1.76']"
      ]
     },
     "execution_count": 22,
     "metadata": {},
     "output_type": "execute_result"
    }
   ],
   "source": [
    "lines"
   ]
  },
  {
   "cell_type": "code",
   "execution_count": null,
   "id": "23e9dc76-ef6d-415d-aada-4c4c8e3b9492",
   "metadata": {},
   "outputs": [],
   "source": []
  },
  {
   "cell_type": "code",
   "execution_count": 8,
   "id": "b386e04c-e943-4545-9556-3d7f54566b9e",
   "metadata": {
    "tags": []
   },
   "outputs": [
    {
     "ename": "TimeoutException",
     "evalue": "Message: \n",
     "output_type": "error",
     "traceback": [
      "\u001b[0;31m---------------------------------------------------------------------------\u001b[0m",
      "\u001b[0;31mTimeoutException\u001b[0m                          Traceback (most recent call last)",
      "Cell \u001b[0;32mIn[8], line 22\u001b[0m\n\u001b[1;32m     20\u001b[0m desired_date \u001b[38;5;241m=\u001b[39m \u001b[38;5;124m'\u001b[39m\u001b[38;5;124m2023-12-06\u001b[39m\u001b[38;5;124m'\u001b[39m  \u001b[38;5;66;03m# İstediğiniz tarih\u001b[39;00m\n\u001b[1;32m     21\u001b[0m js_date_script \u001b[38;5;241m=\u001b[39m \u001b[38;5;124mf\u001b[39m\u001b[38;5;124m'\u001b[39m\u001b[38;5;124mdocument.querySelector(\u001b[39m\u001b[38;5;130;01m\\'\u001b[39;00m\u001b[38;5;124m[data-date=\u001b[39m\u001b[38;5;124m\"\u001b[39m\u001b[38;5;132;01m{\u001b[39;00mdesired_date\u001b[38;5;132;01m}\u001b[39;00m\u001b[38;5;124m\"\u001b[39m\u001b[38;5;124m]\u001b[39m\u001b[38;5;130;01m\\'\u001b[39;00m\u001b[38;5;124m).click();\u001b[39m\u001b[38;5;124m'\u001b[39m\n\u001b[0;32m---> 22\u001b[0m date_element \u001b[38;5;241m=\u001b[39m wait\u001b[38;5;241m.\u001b[39muntil(EC\u001b[38;5;241m.\u001b[39melement_to_be_clickable((By\u001b[38;5;241m.\u001b[39mCSS_SELECTOR, \u001b[38;5;124m'\u001b[39m\u001b[38;5;124m.widget-datepicker__body\u001b[39m\u001b[38;5;124m'\u001b[39m)))\n\u001b[1;32m     23\u001b[0m driver\u001b[38;5;241m.\u001b[39mexecute_script(js_date_script)\n\u001b[1;32m     25\u001b[0m \u001b[38;5;66;03m# WebDriver'ı kapat\u001b[39;00m\n",
      "File \u001b[0;32m~/anaconda3/lib/python3.11/site-packages/selenium/webdriver/support/wait.py:105\u001b[0m, in \u001b[0;36mWebDriverWait.until\u001b[0;34m(self, method, message)\u001b[0m\n\u001b[1;32m    103\u001b[0m     \u001b[38;5;28;01mif\u001b[39;00m time\u001b[38;5;241m.\u001b[39mmonotonic() \u001b[38;5;241m>\u001b[39m end_time:\n\u001b[1;32m    104\u001b[0m         \u001b[38;5;28;01mbreak\u001b[39;00m\n\u001b[0;32m--> 105\u001b[0m \u001b[38;5;28;01mraise\u001b[39;00m TimeoutException(message, screen, stacktrace)\n",
      "\u001b[0;31mTimeoutException\u001b[0m: Message: \n"
     ]
    }
   ],
   "source": [
    "from selenium import webdriver\n",
    "from selenium.webdriver.common.by import By\n",
    "from selenium.webdriver.support.ui import WebDriverWait\n",
    "from selenium.webdriver.support import expected_conditions as EC\n",
    "\n",
    "# WebDriver'ı başlat\n",
    "driver = webdriver.Chrome()\n",
    "\n",
    "# Web sayfasına gidin\n",
    "driver.get(\"https://www.mackolik.com/futbol/canli-sonuclar\")  # Sayfanın doğru URL'sini girin\n",
    "\n",
    "# Tarih seçimi kutusunu açmak için JavaScript kodunu kullanın\n",
    "js_script = 'document.querySelector(\".widget-datepicker__value\").click();'\n",
    "driver.execute_script(js_script)\n",
    "\n",
    "# Bekleyiciyi tanımlayın\n",
    "wait = WebDriverWait(driver, 10)\n",
    "\n",
    "# Belirli bir tarihi seçmek için JavaScript ile tarih seçim kutusunu kullanın\n",
    "desired_date = '2023-12-06'  # İstediğiniz tarih\n",
    "js_date_script = f'document.querySelector(\\'[data-date=\"{desired_date}\"]\\').click();'\n",
    "date_element = wait.until(EC.element_to_be_clickable((By.CSS_SELECTOR, '.widget-datepicker__body')))\n",
    "driver.execute_script(js_date_script)\n",
    "\n",
    "# WebDriver'ı kapat\n",
    "driver.quit()\n"
   ]
  },
  {
   "cell_type": "code",
   "execution_count": 71,
   "id": "1ec935b2-dc6a-4567-992c-bf02fff0b0ce",
   "metadata": {
    "tags": []
   },
   "outputs": [
    {
     "data": {
      "text/plain": [
       "['MBS 2',\n",
       " 'Maç Sonucu',\n",
       " '1',\n",
       " '1.78',\n",
       " 'X',\n",
       " '3.07',\n",
       " '2',\n",
       " '3.18',\n",
       " 'Çifte Şans',\n",
       " '1-X',\n",
       " '1.13',\n",
       " '1-2',\n",
       " '1.15',\n",
       " 'X-2',\n",
       " '1.51',\n",
       " '2,5 Alt/Üst',\n",
       " 'Alt',\n",
       " '1.58',\n",
       " 'Üst',\n",
       " '1.80',\n",
       " 'Tüm oranlar']"
      ]
     },
     "execution_count": 71,
     "metadata": {},
     "output_type": "execute_result"
    }
   ],
   "source": [
    "lines"
   ]
  },
  {
   "cell_type": "code",
   "execution_count": 65,
   "id": "ae272485-d637-43a3-b060-47f6d3270464",
   "metadata": {
    "tags": []
   },
   "outputs": [],
   "source": [
    "import pandas as pd"
   ]
  },
  {
   "cell_type": "code",
   "execution_count": 51,
   "id": "28831c99-a25e-4c5c-9d83-95e22b3f0f77",
   "metadata": {
    "tags": []
   },
   "outputs": [],
   "source": [
    "# df = pd.DataFrame(columns=['Home','Away','Date'])"
   ]
  },
  {
   "cell_type": "code",
   "execution_count": 47,
   "id": "394ee89c-602c-42d0-a853-3e3dc97ed35d",
   "metadata": {
    "tags": []
   },
   "outputs": [],
   "source": [
    "dic ={'Home':lines[0] ,'Away':lines[1],'Date':lines[6].split('|')[0]}"
   ]
  },
  {
   "cell_type": "code",
   "execution_count": 56,
   "id": "40f2dd32-6755-4db9-a72f-1f8a0532cecb",
   "metadata": {
    "tags": []
   },
   "outputs": [],
   "source": [
    "df = pd.DataFrame([dic])"
   ]
  },
  {
   "cell_type": "code",
   "execution_count": null,
   "id": "86f54382-74ea-4a5e-b0d9-c7beb3d5dc58",
   "metadata": {},
   "outputs": [],
   "source": [
    "df.append()"
   ]
  },
  {
   "cell_type": "code",
   "execution_count": 57,
   "id": "21357537-20eb-4824-9e5d-c536429d9c89",
   "metadata": {
    "tags": []
   },
   "outputs": [
    {
     "data": {
      "text/html": [
       "<div>\n",
       "<style scoped>\n",
       "    .dataframe tbody tr th:only-of-type {\n",
       "        vertical-align: middle;\n",
       "    }\n",
       "\n",
       "    .dataframe tbody tr th {\n",
       "        vertical-align: top;\n",
       "    }\n",
       "\n",
       "    .dataframe thead th {\n",
       "        text-align: right;\n",
       "    }\n",
       "</style>\n",
       "<table border=\"1\" class=\"dataframe\">\n",
       "  <thead>\n",
       "    <tr style=\"text-align: right;\">\n",
       "      <th></th>\n",
       "      <th>Home</th>\n",
       "      <th>Away</th>\n",
       "      <th>Date</th>\n",
       "    </tr>\n",
       "  </thead>\n",
       "  <tbody>\n",
       "    <tr>\n",
       "      <th>0</th>\n",
       "      <td>BB Erzurumspor</td>\n",
       "      <td>24 Erzincanspor</td>\n",
       "      <td>06-12-23</td>\n",
       "    </tr>\n",
       "  </tbody>\n",
       "</table>\n",
       "</div>"
      ],
      "text/plain": [
       "             Home             Away       Date\n",
       "0  BB Erzurumspor  24 Erzincanspor  06-12-23 "
      ]
     },
     "execution_count": 57,
     "metadata": {},
     "output_type": "execute_result"
    }
   ],
   "source": [
    "df"
   ]
  },
  {
   "cell_type": "code",
   "execution_count": 75,
   "id": "5cf5f259-746c-465c-9737-511b727a0be9",
   "metadata": {
    "tags": []
   },
   "outputs": [],
   "source": []
  },
  {
   "cell_type": "code",
   "execution_count": 79,
   "id": "448851bc-20cb-4930-ab2a-424dcbe5212a",
   "metadata": {
    "tags": []
   },
   "outputs": [],
   "source": [
    "cs = lines.index('2,5 Alt/Üst'')\n",
    "MAC_SONUCU_1 = lines[ms_1+2]\n",
    "MAC_SONUCU_x = lines[ms_1+4]\n",
    "MAC_SONUCU_2 = lines[ms_1+6]"
   ]
  },
  {
   "cell_type": "code",
   "execution_count": 80,
   "id": "5691aaaf-f79e-4143-a40f-2355f4d3c71a",
   "metadata": {
    "tags": []
   },
   "outputs": [
    {
     "data": {
      "text/plain": [
       "'3.18'"
      ]
     },
     "execution_count": 80,
     "metadata": {},
     "output_type": "execute_result"
    }
   ],
   "source": [
    "MAC_SONUCU_2"
   ]
  },
  {
   "cell_type": "code",
   "execution_count": 74,
   "id": "3170bc18-a956-49c7-8e1e-b3aa3784597b",
   "metadata": {
    "tags": []
   },
   "outputs": [
    {
     "data": {
      "text/plain": [
       "['MBS 2',\n",
       " 'Maç Sonucu',\n",
       " '1',\n",
       " '1.78',\n",
       " 'X',\n",
       " '3.07',\n",
       " '2',\n",
       " '3.18',\n",
       " 'Çifte Şans',\n",
       " '1-X',\n",
       " '1.13',\n",
       " '1-2',\n",
       " '1.15',\n",
       " 'X-2',\n",
       " '1.51',\n",
       " '2,5 Alt/Üst',\n",
       " 'Alt',\n",
       " '1.58',\n",
       " 'Üst',\n",
       " '1.80',\n",
       " 'Tüm oranlar']"
      ]
     },
     "execution_count": 74,
     "metadata": {},
     "output_type": "execute_result"
    }
   ],
   "source": [
    "lines"
   ]
  },
  {
   "cell_type": "code",
   "execution_count": 90,
   "id": "bf356d59-b41a-457d-a6c6-bb9011a03e64",
   "metadata": {
    "tags": []
   },
   "outputs": [],
   "source": [
    "import numpy as np\n",
    "# AU = lines.index('dasdsa')"
   ]
  },
  {
   "cell_type": "code",
   "execution_count": 96,
   "id": "fc443412-cad1-45d3-b6f6-c604fb91c1ea",
   "metadata": {
    "tags": []
   },
   "outputs": [],
   "source": [
    "if 'dasdsa' in lines:\n",
    "    AU = lines.index('dasdsa')\n",
    "    AU = 1.5\n",
    "else:\n",
    "    AU = np.nan\n",
    "    "
   ]
  },
  {
   "cell_type": "code",
   "execution_count": 97,
   "id": "7f625a23-945a-4fb7-a285-230af10f25b4",
   "metadata": {
    "tags": []
   },
   "outputs": [
    {
     "data": {
      "text/plain": [
       "nan"
      ]
     },
     "execution_count": 97,
     "metadata": {},
     "output_type": "execute_result"
    }
   ],
   "source": [
    "AU"
   ]
  },
  {
   "cell_type": "code",
   "execution_count": 98,
   "id": "7d96fed4-add8-4a35-a25b-c836b99ac145",
   "metadata": {
    "tags": []
   },
   "outputs": [
    {
     "data": {
      "text/plain": [
       "['MBS 2',\n",
       " 'Maç Sonucu',\n",
       " '1',\n",
       " '1.78',\n",
       " 'X',\n",
       " '3.07',\n",
       " '2',\n",
       " '3.18',\n",
       " 'Çifte Şans',\n",
       " '1-X',\n",
       " '1.13',\n",
       " '1-2',\n",
       " '1.15',\n",
       " 'X-2',\n",
       " '1.51',\n",
       " '2,5 Alt/Üst',\n",
       " 'Alt',\n",
       " '1.58',\n",
       " 'Üst',\n",
       " '1.80',\n",
       " 'Tüm oranlar']"
      ]
     },
     "execution_count": 98,
     "metadata": {},
     "output_type": "execute_result"
    }
   ],
   "source": [
    "lines"
   ]
  },
  {
   "cell_type": "code",
   "execution_count": 99,
   "id": "d4934924-92c0-4845-84ab-d36a2db6807f",
   "metadata": {
    "tags": []
   },
   "outputs": [
    {
     "ename": "SyntaxError",
     "evalue": "invalid syntax (3277417328.py, line 1)",
     "output_type": "error",
     "traceback": [
      "\u001b[0;36m  Cell \u001b[0;32mIn[99], line 1\u001b[0;36m\u001b[0m\n\u001b[0;31m    git init\u001b[0m\n\u001b[0m        ^\u001b[0m\n\u001b[0;31mSyntaxError\u001b[0m\u001b[0;31m:\u001b[0m invalid syntax\n"
     ]
    }
   ],
   "source": [
    "git init\n"
   ]
  },
  {
   "cell_type": "code",
   "execution_count": null,
   "id": "885b971a-9ff0-4a83-b53e-d5ebcf231d53",
   "metadata": {},
   "outputs": [],
   "source": []
  }
 ],
 "metadata": {
  "kernelspec": {
   "display_name": "Python 3 (ipykernel)",
   "language": "python",
   "name": "python3"
  },
  "language_info": {
   "codemirror_mode": {
    "name": "ipython",
    "version": 3
   },
   "file_extension": ".py",
   "mimetype": "text/x-python",
   "name": "python",
   "nbconvert_exporter": "python",
   "pygments_lexer": "ipython3",
   "version": "3.11.5"
  }
 },
 "nbformat": 4,
 "nbformat_minor": 5
}
